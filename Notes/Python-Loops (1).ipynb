{
 "cells": [
  {
   "cell_type": "markdown",
   "id": "07c00a1b",
   "metadata": {},
   "source": [
    "## While Loop in Python\n",
    "\n",
    "In python, a while loop is used to execute a block of statements repeatedly until a given condition is satisfied. And when the condition becomes false, the line immediately after the loop in the program is executed.\n",
    "\n",
    "Syntax :\n",
    "\n",
    "while expression:\n",
    "\n",
    "    statement(s)\n",
    "    \n",
    "    \n",
    "All the statements indented by the same number of character spaces after a programming construct are considered to be part of a single block of code. Python uses indentation as its method of grouping statements. \n",
    "Example: \n",
    "\n"
   ]
  },
  {
   "cell_type": "code",
   "execution_count": 1,
   "id": "5c966384",
   "metadata": {},
   "outputs": [
    {
     "name": "stdout",
     "output_type": "stream",
     "text": [
      "Hello Geek\n",
      "Hello Geek\n",
      "Hello Geek\n"
     ]
    }
   ],
   "source": [
    "count = 0\n",
    "while (count < 3):   \n",
    "    count = count + 1\n",
    "    print(\"Hello Geek\")"
   ]
  },
  {
   "cell_type": "markdown",
   "id": "0d0bd0b3",
   "metadata": {},
   "source": [
    "#### Using else statement with while loops\n",
    "\n",
    "As discussed above, while loop executes the block until a condition is satisfied. When the condition becomes false, the statement immediately after the loop is executed. \n",
    "\n",
    "The else clause is only executed when your while condition becomes false. If you break out of the loop, or if an exception is raised, it won’t be executed. \n",
    "\n",
    "If else like this:\n",
    "\n",
    "if condition:\n",
    "\n",
    "    # execute these statements\n",
    "    \n",
    "else:\n",
    "\n",
    "    # execute these statements\n",
    "    \n",
    "and while loop like this are similar\n",
    "\n",
    "while condition:\n",
    "\n",
    "     # execute these statements\n",
    "else:\n",
    "\n",
    "     # execute these statements\n",
    "Examples:"
   ]
  },
  {
   "cell_type": "code",
   "execution_count": 2,
   "id": "d855d94f",
   "metadata": {},
   "outputs": [
    {
     "name": "stdout",
     "output_type": "stream",
     "text": [
      "Hello Geek\n",
      "Hello Geek\n",
      "Hello Geek\n",
      "In Else Block\n"
     ]
    }
   ],
   "source": [
    "count = 0\n",
    "while (count < 3):\n",
    "    count = count + 1\n",
    "    print(\"Hello Geek\")\n",
    "else:\n",
    "    print(\"In Else Block\")"
   ]
  },
  {
   "cell_type": "markdown",
   "id": "ffb60a4c",
   "metadata": {},
   "source": [
    "## For Loop in Python\n",
    "For loops are used for sequential traversal. For example: traversing a list or string or array etc. In Python, there is no C style for loop, i.e., for (i=0; i<n; i++). There is “for in” loop which is similar to for each loop in other languages. Let us learn how to use for in loop for sequential traversals.\n",
    "\n",
    "Syntax:\n",
    "\n",
    "for iterator_var in sequence:\n",
    "\n",
    "    statements(s)\n",
    "    \n",
    "It can be used to iterate over a range and iterators."
   ]
  },
  {
   "cell_type": "code",
   "execution_count": 3,
   "id": "b7be717b",
   "metadata": {},
   "outputs": [
    {
     "name": "stdout",
     "output_type": "stream",
     "text": [
      "0\n",
      "1\n",
      "2\n",
      "3\n"
     ]
    }
   ],
   "source": [
    "n = 4\n",
    "for i in range(0, n):\n",
    "    print(i)"
   ]
  },
  {
   "cell_type": "markdown",
   "id": "bbda6dab",
   "metadata": {},
   "source": [
    "Example with List, Tuple, string, and dictionary iteration using For Loops"
   ]
  },
  {
   "cell_type": "code",
   "execution_count": 4,
   "id": "6cd90b22",
   "metadata": {},
   "outputs": [
    {
     "name": "stdout",
     "output_type": "stream",
     "text": [
      "List Iteration\n",
      "geeks\n",
      "for\n",
      "geeks\n",
      "\n",
      "Tuple Iteration\n",
      "geeks\n",
      "for\n",
      "geeks\n",
      "\n",
      "String Iteration\n",
      "G\n",
      "e\n",
      "e\n",
      "k\n",
      "s\n",
      "\n",
      "Dictionary Iteration\n",
      "xyz  123\n",
      "abc  345\n",
      "\n",
      "Set Iteration\n",
      "1\n",
      "2\n",
      "3\n",
      "4\n",
      "5\n",
      "6\n"
     ]
    }
   ],
   "source": [
    "print(\"List Iteration\")\n",
    "l = [\"geeks\", \"for\", \"geeks\"]\n",
    "for i in l:\n",
    "    print(i)\n",
    " \n",
    "# Iterating over a tuple (immutable)\n",
    "print(\"\\nTuple Iteration\")\n",
    "t = (\"geeks\", \"for\", \"geeks\")\n",
    "for i in t:\n",
    "    print(i)\n",
    " \n",
    "# Iterating over a String\n",
    "print(\"\\nString Iteration\")\n",
    "s = \"Geeks\"\n",
    "for i in s:\n",
    "    print(i)\n",
    " \n",
    "# Iterating over dictionary\n",
    "print(\"\\nDictionary Iteration\")\n",
    "d = dict()\n",
    "d['xyz'] = 123\n",
    "d['abc'] = 345\n",
    "for i in d:\n",
    "    print(\"%s  %d\" % (i, d[i]))\n",
    " \n",
    "# Iterating over a set\n",
    "print(\"\\nSet Iteration\")\n",
    "set1 = {1, 2, 3, 4, 5, 6}\n",
    "for i in set1:\n",
    "    print(i),"
   ]
  },
  {
   "cell_type": "markdown",
   "id": "e68bb23e",
   "metadata": {},
   "source": [
    "Iterating by the index of sequences: \n",
    "    \n",
    "We can also use the index of elements in the sequence to iterate. The key idea is to first calculate the length of the list and in iterate over the sequence within the range of this length. \n",
    "See the below example: "
   ]
  },
  {
   "cell_type": "code",
   "execution_count": 6,
   "id": "6c018958",
   "metadata": {},
   "outputs": [
    {
     "name": "stdout",
     "output_type": "stream",
     "text": [
      "  geeks\n",
      "  for\n",
      "  geeks\n"
     ]
    }
   ],
   "source": [
    "# Python program to illustrate\n",
    "# Iterating by index\n",
    " \n",
    "list = [\"geeks\", \"for\", \"geeks\"]\n",
    "for index in range(len(list)):\n",
    "    print (\" \",list[index])"
   ]
  },
  {
   "cell_type": "markdown",
   "id": "78653510",
   "metadata": {},
   "source": [
    "Using else statement with for loops:\n",
    "    \n",
    "We can also combine else statement with for loop like in while loop. But as there is no condition in for loop based on which the execution will terminate so the else block will be executed immediately after for block finishes execution. \n",
    "Below example explains how to do this: "
   ]
  },
  {
   "cell_type": "code",
   "execution_count": 8,
   "id": "bd7d1c28",
   "metadata": {},
   "outputs": [
    {
     "name": "stdout",
     "output_type": "stream",
     "text": [
      "geeks\n",
      "for\n",
      "geeks\n",
      "Inside Else Block\n"
     ]
    }
   ],
   "source": [
    "list = [\"geeks\", \"for\", \"geeks\"]\n",
    "for index in range(len(list)):\n",
    "    print (list[index])\n",
    "else:\n",
    "    print (\"Inside Else Block\")"
   ]
  },
  {
   "cell_type": "markdown",
   "id": "c686a090",
   "metadata": {},
   "source": [
    "### Nested Loops\n",
    "\n",
    "Python programming language allows to use one loop inside another loop. Following section shows few examples to illustrate the concept. \n",
    "\n",
    "Syntax: "
   ]
  },
  {
   "cell_type": "code",
   "execution_count": 9,
   "id": "a2ba9ae0",
   "metadata": {},
   "outputs": [
    {
     "name": "stdout",
     "output_type": "stream",
     "text": [
      "1 \n",
      "2 2 \n",
      "3 3 3 \n",
      "4 4 4 4 \n"
     ]
    }
   ],
   "source": [
    "from __future__ import print_function\n",
    "for i in range(1, 5):\n",
    "    for j in range(i):\n",
    "        print(i, end=' ')\n",
    "    print()"
   ]
  },
  {
   "cell_type": "markdown",
   "id": "98b5dd7e",
   "metadata": {},
   "source": [
    "## Loop Control Statements\n",
    "\n",
    "Loop control statements change execution from their normal sequence. When execution leaves a scope, all automatic objects that were created in that scope are destroyed. Python supports the following control statements. \n",
    "\n",
    "### Continue Statement:\n",
    "It returns the control to the beginning of the loop.\n",
    "\n",
    "The continue statement skip the current iteration and move to the next iteration. In Python, when the continue statement is encountered inside the loop, it skips all the statements below it and immediately jumps to the next iteration.\n",
    "\n",
    "In simple words, the continue statement is used inside loops. Whenever the continue statement is encountered inside a loop, control directly jumps to the start of the loop for the next iteration, skipping the rest of the code present inside the loop’s body for the current iteration.\n",
    "\n",
    "In some situations, it is helpful to skip executing some statement inside a loop’s body if a particular condition occurs and directly move to the next iteration.\n"
   ]
  },
  {
   "attachments": {
    "python-continue-statement-in-loop.webp": {
     "image/webp": "[encoded data removed]"
    }
   },
   "cell_type": "markdown",
   "id": "6d9bcd52",
   "metadata": {},
   "source": [
    "![python-continue-statement-in-loop.webp](attachment:python-continue-statement-in-loop.webp)"
   ]
  },
  {
   "attachments": {
    "flowchart-of-continue-statement.webp": {
     "image/webp": "[encoded data removed]"
    }
   },
   "cell_type": "markdown",
   "id": "0520bcf6",
   "metadata": {},
   "source": [
    "![flowchart-of-continue-statement.webp](attachment:flowchart-of-continue-statement.webp)"
   ]
  },
  {
   "cell_type": "code",
   "execution_count": 18,
   "id": "94de6cb9",
   "metadata": {},
   "outputs": [
    {
     "name": "stdout",
     "output_type": "stream",
     "text": [
      "Current Number is 2\n",
      "Square of a current number is 4\n",
      "Current Number is 3\n",
      "Square of a current number is 9\n",
      "Current Number is 11\n",
      "Current Number is 7\n",
      "Square of a current number is 49\n"
     ]
    }
   ],
   "source": [
    "numbers = [2, 3, 11, 7]\n",
    "for i in numbers:\n",
    "    print('Current Number is', i)\n",
    "    # skip below statement if number is greater than 10\n",
    "    if i > 10:\n",
    "        continue\n",
    "    square = i * i\n",
    "    print('Square of a current number is', square)"
   ]
  },
  {
   "cell_type": "code",
   "execution_count": 10,
   "id": "a8f0b808",
   "metadata": {},
   "outputs": [
    {
     "name": "stdout",
     "output_type": "stream",
     "text": [
      "Current Letter : g\n",
      "Current Letter : k\n",
      "Current Letter : f\n",
      "Current Letter : o\n",
      "Current Letter : r\n",
      "Current Letter : g\n",
      "Current Letter : k\n"
     ]
    }
   ],
   "source": [
    "# Prints all letters except 'e' and 's'\n",
    "for letter in 'geeksforgeeks':\n",
    "    if letter == 'e' or letter == 's':\n",
    "         continue\n",
    "    print ('Current Letter :', letter)\n",
    "    var = 10"
   ]
  },
  {
   "cell_type": "markdown",
   "id": "5be8af49",
   "metadata": {},
   "source": [
    "### Break Statement: \n",
    "It brings control out of the loop\n",
    "\n",
    "Break Statement in Python\n",
    "\n",
    "The break statement is used inside the loop to exit out of the loop. In Python, when a break statement is encountered inside a loop, the loop is immediately terminated, and the program control transfer to the next statement following the loop.\n",
    "\n",
    "In simple words, A break keyword terminates the loop containing it. If the break statement is used inside a nested loop (loop inside another loop), it will terminate the innermost loop.\n",
    "\n",
    "Home » Python » Python Break, Continue, and Pass\n",
    "Python Break, Continue, and Pass\n",
    "Updated on: June 6, 2021 | 5 Comments\n",
    "\n",
    "In this article, you will learn how to use ‎the break, continue and pass statements when working with loops in Python. We use break, continue statements to alter the loop’s execution in a certain manner.\n",
    "\n",
    "Statement\tDescription\n",
    "break\tTerminate the current loop. Use the break statement to come out of the loop instantly.\n",
    "continue\tSkip the current iteration of a loop and move to the next iteration\n",
    "pass\tDo nothing. Ignore the condition in which it occurred and proceed to run the program as usual\n",
    "Loop control statements in Python\n",
    "The break and continue statements are part of a control flow statements that helps you to understand the basics of Python.\n",
    "\n",
    "Table of contents\n",
    "Break Statement in Python\n",
    "Example: Break for loop in Python\n",
    "How break statement works\n",
    "Example: Break while loop\n",
    "Break Nested Loop in Python\n",
    "Break Outer loop in Python\n",
    "Continue Statement in Python\n",
    "Example: continue statement in for loop\n",
    "How continue statement works\n",
    "Example: continue statement in while loop\n",
    "Continue Statement in Nested Loop\n",
    "Continue Statement in Outer loop\n",
    "Pass Statement in Python\n",
    "\n",
    "Break Statement in Python\n",
    "The break statement is used inside the loop to exit out of the loop. In Python, when a break statement is encountered inside a loop, the loop is immediately terminated, and the program control transfer to the next statement following the loop.\n",
    "\n",
    "In simple words, A break keyword terminates the loop containing it. If the break statement is used inside a nested loop (loop inside another loop), it will terminate the innermost loop.\n",
    "\n",
    "For example, you are searching a specific email inside a file. You started reading a file line by line using a loop. When you found an email, you can stop the loop using the break statement.\n",
    "\n",
    "We can use Python break statement in both for loop and while loop. It is helpful to terminate the loop as soon as the condition is fulfilled instead of doing the remaining iterations. It reduces execution time."
   ]
  },
  {
   "attachments": {
    "break-loop-in-python.webp": {
     "image/webp": "[encoded data removed]"
    }
   },
   "cell_type": "markdown",
   "id": "d8e0e7ca",
   "metadata": {},
   "source": [
    "![break-loop-in-python.webp](attachment:break-loop-in-python.webp)"
   ]
  },
  {
   "attachments": {
    "flowchart-of-break-statement.webp": {
     "image/webp": "[encoded data removed]"
    }
   },
   "cell_type": "markdown",
   "id": "dd6868ef",
   "metadata": {},
   "source": [
    "![flowchart-of-break-statement.webp](attachment:flowchart-of-break-statement.webp)"
   ]
  },
  {
   "cell_type": "code",
   "execution_count": 15,
   "id": "87d4589d",
   "metadata": {},
   "outputs": [
    {
     "name": "stdout",
     "output_type": "stream",
     "text": [
      "g\n",
      "e\n",
      "Current Letter : e\n"
     ]
    }
   ],
   "source": [
    "for letter in 'geeksforgeeks':\n",
    " \n",
    "    # break the loop as soon it sees 'e'\n",
    "    # or 's'\n",
    "    print(letter)\n",
    "    if letter == 'e' or letter == 's':\n",
    "        \n",
    "        break\n",
    " \n",
    "print ('Current Letter :', letter)"
   ]
  },
  {
   "cell_type": "code",
   "execution_count": 20,
   "id": "94142f54",
   "metadata": {},
   "outputs": [
    {
     "name": "stdout",
     "output_type": "stream",
     "text": [
      "Multiplication table of 1\n",
      "1 2 3 4 6 7 8 9 10 \n",
      "Multiplication table of 2\n",
      "2 4 6 8 12 14 16 18 20 \n",
      "Multiplication table of 3\n",
      "3 6 9 12 18 21 24 27 30 \n",
      "Multiplication table of 4\n",
      "4 8 12 16 24 28 32 36 40 \n",
      "Multiplication table of 5\n",
      "5 10 15 20 30 35 40 45 50 \n",
      "Multiplication table of 6\n",
      "6 12 18 24 36 42 48 54 60 \n",
      "Multiplication table of 7\n",
      "7 14 21 28 42 49 56 63 70 \n",
      "Multiplication table of 8\n",
      "8 16 24 32 48 56 64 72 80 \n",
      "Multiplication table of 9\n",
      "9 18 27 36 54 63 72 81 90 \n",
      "Multiplication table of 10\n",
      "10 20 30 40 60 70 80 90 100 \n"
     ]
    }
   ],
   "source": [
    "for i in range(1, 11):\n",
    "    print('Multiplication table of', i)\n",
    "    for j in range(1, 11):\n",
    "        # condition to skip current iteration\n",
    "        if j == 5:\n",
    "            continue\n",
    "        print(i * j, end=' ')\n",
    "    print('')"
   ]
  },
  {
   "cell_type": "markdown",
   "id": "35a01c58",
   "metadata": {},
   "source": [
    "It is passing \"g\" letter first and it runs whole loop, then while passing \"e\" it is breaking the whole loop"
   ]
  },
  {
   "cell_type": "markdown",
   "id": "a4af83d7",
   "metadata": {},
   "source": [
    "#### Pass Statement: \n",
    "\n",
    "We use pass statement to write empty loops. Pass is also used for empty control statements, functions and classes."
   ]
  },
  {
   "cell_type": "code",
   "execution_count": 17,
   "id": "0a39ba1e",
   "metadata": {},
   "outputs": [
    {
     "name": "stdout",
     "output_type": "stream",
     "text": [
      "Last Letter : s\n"
     ]
    }
   ],
   "source": [
    "# An empty loop\n",
    "for letter in 'geeksforgeeks':\n",
    "    pass\n",
    "print ('Last Letter :', letter)"
   ]
  },
  {
   "cell_type": "markdown",
   "id": "af499136",
   "metadata": {},
   "source": [
    "#### break\t\n",
    "\n",
    "Terminate the current loop. Use the break statement to come out of the loop instantly.\n",
    "\n",
    "#### continue\t\n",
    "\n",
    "Skip the current iteration of a loop and move to the next iteration\n",
    "\n",
    "#### pass\t\n",
    "\n",
    "Do nothing. Ignore the condition in which it occurred and proceed to run the program as usual\n",
    "\n",
    "\n",
    "### Pass Statement in Python\n",
    "The pass is the keyword In Python, which won’t do anything. Sometimes there is a situation in programming where we need to define a syntactically empty block. We can define that block with the pass keyword.\n",
    "\n",
    "A pass statement is a Python null statement. When the interpreter finds a pass statement in the program, it returns no operation. Nothing happens when the pass statement is executed.\n",
    "\n",
    "It is useful in a situation where we are implementing new methods or also in exception handling. It plays a role like a placeholder.\n"
   ]
  },
  {
   "cell_type": "code",
   "execution_count": 19,
   "id": "3ff0a942",
   "metadata": {},
   "outputs": [
    {
     "name": "stdout",
     "output_type": "stream",
     "text": [
      "['January', 'June', 'March', 'April']\n"
     ]
    }
   ],
   "source": [
    "months = ['January', 'June', 'March', 'April']\n",
    "for mon in months:\n",
    "    pass\n",
    "print(months)"
   ]
  },
  {
   "cell_type": "code",
   "execution_count": null,
   "id": "86bc420f",
   "metadata": {},
   "outputs": [],
   "source": []
  }
 ],
 "metadata": {
  "kernelspec": {
   "display_name": "Python 3 (ipykernel)",
   "language": "python",
   "name": "python3"
  },
  "language_info": {
   "codemirror_mode": {
    "name": "ipython",
    "version": 3
   },
   "file_extension": ".py",
   "mimetype": "text/x-python",
   "name": "python",
   "nbconvert_exporter": "python",
   "pygments_lexer": "ipython3",
   "version": "3.9.13"
  }
 },
 "nbformat": 4,
 "nbformat_minor": 5
}
