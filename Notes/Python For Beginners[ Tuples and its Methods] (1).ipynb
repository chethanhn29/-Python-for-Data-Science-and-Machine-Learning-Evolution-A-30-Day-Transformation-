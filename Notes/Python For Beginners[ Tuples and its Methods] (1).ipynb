{
 "cells": [
  {
   "cell_type": "markdown",
   "id": "7fa0fc2a",
   "metadata": {},
   "source": [
    "### Python Tuples\n",
    "Tuple is a collection of Python objects much like a list. The sequence of values stored in a tuple can be of any type, and they are indexed by integers. \n",
    "\n",
    "Values of a tuple are syntactically separated by ‘commas’. Although it is not necessary, it is more common to define a tuple by closing the sequence of values in parentheses. This helps in understanding the Python tuples more easily."
   ]
  },
  {
   "cell_type": "code",
   "execution_count": 1,
   "id": "c75fb690",
   "metadata": {},
   "outputs": [
    {
     "name": "stdout",
     "output_type": "stream",
     "text": [
      "Initial empty Tuple: \n",
      "()\n",
      "\n",
      "Tuple with the use of String: \n",
      "('Geeks', 'For')\n",
      "\n",
      "Tuple using List: \n",
      "(1, 2, 4, 5, 6)\n",
      "\n",
      "Tuple with the use of function: \n",
      "('G', 'e', 'e', 'k', 's')\n"
     ]
    }
   ],
   "source": [
    "# Creating an empty Tuple\n",
    "Tuple1 = ()\n",
    "print(\"Initial empty Tuple: \")\n",
    "print(Tuple1)\n",
    " \n",
    "# Creating a Tuple\n",
    "# with the use of string\n",
    "Tuple1 = ('Geeks', 'For')\n",
    "print(\"\\nTuple with the use of String: \")\n",
    "print(Tuple1)\n",
    " \n",
    "# Creating a Tuple with\n",
    "# the use of list\n",
    "list1 = [1, 2, 4, 5, 6]\n",
    "print(\"\\nTuple using List: \")\n",
    "print(tuple(list1))\n",
    " \n",
    "# Creating a Tuple\n",
    "# with the use of built-in function\n",
    "Tuple1 = tuple('Geeks')\n",
    "print(\"\\nTuple with the use of function: \")\n",
    "print(Tuple1)"
   ]
  },
  {
   "cell_type": "code",
   "execution_count": 5,
   "id": "776b7b40",
   "metadata": {},
   "outputs": [
    {
     "name": "stdout",
     "output_type": "stream",
     "text": [
      "\n",
      "Tuple with nested tuples: \n",
      "((0, 1, 2, 3), ('python', 'geek'))\n",
      "\n",
      "Tuple with repetition: \n",
      "('Geeks', 'Geeks', 'Geeks')\n",
      "\n",
      "Tuple with a loop\n",
      "('Geeks',)\n",
      "(('Geeks',),)\n",
      "((('Geeks',),),)\n",
      "(((('Geeks',),),),)\n",
      "((((('Geeks',),),),),)\n"
     ]
    }
   ],
   "source": [
    "# Creating a Tuple\n",
    "# with nested tuples\n",
    "Tuple1 = (0, 1, 2, 3)\n",
    "Tuple2 = ('python', 'geek')\n",
    "Tuple3 = (Tuple1, Tuple2)\n",
    "print(\"\\nTuple with nested tuples: \")\n",
    "print(Tuple3)\n",
    " \n",
    "# Creating a Tuple\n",
    "# with repetition\n",
    "Tuple1 = ('Geeks',) * 3\n",
    "print(\"\\nTuple with repetition: \")\n",
    "print(Tuple1)\n",
    " \n",
    "# Creating a Tuple\n",
    "# with the use of loop\n",
    "Tuple1 = ('Geeks')\n",
    "n = 5\n",
    "print(\"\\nTuple with a loop\")\n",
    "for i in range(int(n)):\n",
    "    Tuple1 = (Tuple1,)\n",
    "    print(Tuple1)"
   ]
  },
  {
   "cell_type": "markdown",
   "id": "9d0e979a",
   "metadata": {},
   "source": [
    "### Accessing of Tuples\n",
    "\n",
    "Tuples are immutable, and usually, they contain a sequence of heterogeneous elements that are accessed via unpacking or indexing (or even by attribute in the case of named tuples). Lists are mutable, and their elements are usually homogeneous and are accessed by iterating over the list."
   ]
  },
  {
   "cell_type": "code",
   "execution_count": 6,
   "id": "990ef2d7",
   "metadata": {},
   "outputs": [
    {
     "name": "stdout",
     "output_type": "stream",
     "text": [
      "\n",
      "First element of Tuple: \n",
      "G\n",
      "\n",
      "Values after unpacking: \n",
      "Geeks\n",
      "For\n",
      "Geeks\n"
     ]
    }
   ],
   "source": [
    "# Accessing Tuple\n",
    "# with Indexing\n",
    "Tuple1 = tuple(\"Geeks\")\n",
    "print(\"\\nFirst element of Tuple: \")\n",
    "print(Tuple1[0])\n",
    " \n",
    " \n",
    "# Tuple unpacking\n",
    "Tuple1 = (\"Geeks\", \"For\", \"Geeks\")\n",
    " \n",
    "# This line unpack\n",
    "# values of Tuple1\n",
    "a, b, c = Tuple1\n",
    "print(\"\\nValues after unpacking: \")\n",
    "print(a)\n",
    "print(b)\n",
    "print(c)"
   ]
  },
  {
   "cell_type": "markdown",
   "id": "7920d1cc",
   "metadata": {},
   "source": [
    "Note: In unpacking of tuple number of variables on the left-hand side should be equal to a number of values in given tuple a. \n",
    "\n"
   ]
  },
  {
   "cell_type": "markdown",
   "id": "c930d8bf",
   "metadata": {},
   "source": [
    "## Concatenation of Tuples\n",
    "\n",
    "\n",
    "Concatenation of tuple is the process of joining two or more Tuples. Concatenation is done by the use of ‘+’ operator. Concatenation of tuples is done always from the end of the original tuple. Other arithmetic operations do not apply on Tuples. \n",
    "\n",
    "Note- Only the same datatypes can be combined with concatenation, an error arises if a list and a tuple are combined. "
   ]
  },
  {
   "cell_type": "code",
   "execution_count": 8,
   "id": "8df868d6",
   "metadata": {},
   "outputs": [
    {
     "name": "stdout",
     "output_type": "stream",
     "text": [
      "\n",
      "Tuples after Concatenation: \n",
      "(0, 1, 2, 3, 'Geeks', 'For', 'Geeks')\n"
     ]
    }
   ],
   "source": [
    "# Concatenation of tuples\n",
    "Tuple1 = (0, 1, 2, 3)\n",
    "Tuple2 = ('Geeks', 'For', 'Geeks')\n",
    " \n",
    "Tuple3 = Tuple1 + Tuple2\n",
    " # Printing Final Tuple\n",
    "print(\"\\nTuples after Concatenation: \")\n",
    "print(Tuple3)"
   ]
  },
  {
   "cell_type": "markdown",
   "id": "ae736048",
   "metadata": {},
   "source": [
    "## Slicing of Tuple\n",
    "\n",
    "Slicing of a Tuple is done to fetch a specific range or slice of sub-elements from a Tuple. Slicing can also be done to lists and arrays. Indexing in a list results to fetching a single element whereas Slicing allows to fetch a set of elements. \n",
    "\n",
    "Note- Negative Increment values can also be used to reverse the sequence of Tuples. "
   ]
  },
  {
   "cell_type": "code",
   "execution_count": 15,
   "id": "61731379",
   "metadata": {},
   "outputs": [
    {
     "name": "stdout",
     "output_type": "stream",
     "text": [
      "Before Slicing tuple  ('G', 'E', 'E', 'K', 'S', 'F', 'O', 'R', 'G', 'E', 'E', 'K', 'S')\n",
      "Removal of First Element: \n",
      "('E', 'E', 'K', 'S', 'F', 'O', 'R', 'G', 'E', 'E', 'K', 'S')\n",
      "\n",
      "Tuple after sequence of Element is reversed: \n",
      "('S', 'K', 'E', 'E', 'G', 'R', 'O', 'F', 'S', 'K', 'E', 'E', 'G')\n",
      "\n",
      "Printing elements between Range 4-9: \n",
      "('S', 'F', 'O', 'R', 'G')\n"
     ]
    }
   ],
   "source": [
    "# Slicing of a Tuple\n",
    " \n",
    "# Slicing of a Tuple\n",
    "# with Numbers\n",
    "Tuple1 = tuple('GEEKSFORGEEKS')\n",
    "print(\"Before Slicing tuple \",Tuple1)\n",
    "# Removing First element\n",
    "print(\"Removal of First Element: \")\n",
    "print(Tuple1[1:])\n",
    " \n",
    "# Reversing the Tuple\n",
    "print(\"\\nTuple after sequence of Element is reversed: \")\n",
    "print(Tuple1[::-1])\n",
    " \n",
    "# Printing elements of a Range\n",
    "print(\"\\nPrinting elements between Range 4-9: \")\n",
    "print(Tuple1[4:9])"
   ]
  },
  {
   "cell_type": "markdown",
   "id": "aa1d7705",
   "metadata": {},
   "source": [
    "## Deleting a Tuple\n",
    "Tuples are immutable and hence they do not allow deletion of a part of it. The entire tuple gets deleted by the use of del() method. \n",
    "\n",
    "Note- Printing of Tuple after deletion results in an Error. "
   ]
  },
  {
   "cell_type": "code",
   "execution_count": 17,
   "id": "76b95b22",
   "metadata": {},
   "outputs": [
    {
     "ename": "NameError",
     "evalue": "name 'Tuple1' is not defined",
     "output_type": "error",
     "traceback": [
      "\u001b[1;31m---------------------------------------------------------------------------\u001b[0m",
      "\u001b[1;31mNameError\u001b[0m                                 Traceback (most recent call last)",
      "Input \u001b[1;32mIn [17]\u001b[0m, in \u001b[0;36m<cell line: 5>\u001b[1;34m()\u001b[0m\n\u001b[0;32m      2\u001b[0m Tuple1 \u001b[38;5;241m=\u001b[39m (\u001b[38;5;241m0\u001b[39m, \u001b[38;5;241m1\u001b[39m, \u001b[38;5;241m2\u001b[39m, \u001b[38;5;241m3\u001b[39m, \u001b[38;5;241m4\u001b[39m)\n\u001b[0;32m      3\u001b[0m \u001b[38;5;28;01mdel\u001b[39;00m Tuple1\n\u001b[1;32m----> 5\u001b[0m \u001b[38;5;28mprint\u001b[39m(\u001b[43mTuple1\u001b[49m)\n",
      "\u001b[1;31mNameError\u001b[0m: name 'Tuple1' is not defined"
     ]
    }
   ],
   "source": [
    "# Deleting a Tuple\n",
    "Tuple1 = (0, 1, 2, 3, 4)\n",
    "del Tuple1\n",
    " \n",
    "print(Tuple1)"
   ]
  },
  {
   "cell_type": "markdown",
   "id": "15184992",
   "metadata": {},
   "source": [
    "#### Built-In Methods\n",
    "\n",
    "index( )\tFind in the tuple and returns the index of the given value where it’s available\n",
    "\n",
    "count( )\tReturns the frequency of occurrence of a specified value\n",
    "\n",
    "#### Built-In Functions\n",
    "\n",
    "all()\tReturns true if all element are true or if tuple is empty\n",
    "\n",
    "any()\treturn true if any element of the tuple is true. if tuple is empty, return false\n",
    "\n",
    "len()\tReturns length of the tuple or size of the tuple\n",
    "\n",
    "enumerate()\tReturns enumerate object of tuple\n",
    "\n",
    "max()\treturn maximum element of given tuple\n",
    "\n",
    "min()\treturn minimum element of given tuple\n",
    "\n",
    "sum()\tSums up the numbers in the tuple\n",
    "\n",
    "sorted()\tinput elements in the tuple and return a new sorted list\n",
    "\n",
    "tuple()\tConvert an iterable to a tuple.\n",
    " "
   ]
  },
  {
   "cell_type": "markdown",
   "id": "96a57b35",
   "metadata": {},
   "source": [
    "### Tuples VS Lists:\n",
    "#### Similarities\t\n",
    "\n",
    "Functions that can be used for both lists and tuples:\n",
    "len(), max(), min(), sum(), any(), all(), sorted()\n",
    "\n",
    "Methods that can be used for both lists and tuples:  count(), Index()\n",
    "    \n",
    "Tuples can be stored in lists.\n",
    "\n",
    "Lists can be stored in tuples\n",
    "\n",
    "Both ‘tuples’ and ‘lists’ can be nested.\n",
    "\n"
   ]
  },
  {
   "cell_type": "markdown",
   "id": "2a1f1748",
   "metadata": {},
   "source": [
    "#### Differences\n",
    "\n",
    "Methods that cannot be used for tuples:\n",
    "append(), insert(), remove(), pop(), clear(), sort(), reverse()\n",
    "\n",
    "we generally use ‘tuples’ for heterogeneous (different) data types and ‘lists’ for homogeneous (similar) data types.\n",
    "\n",
    "Iterating through a ‘tuple’ is faster than in a ‘list’.\n",
    "\n",
    "‘Lists’ are mutable whereas ‘tuples’ are immutable.\n",
    "\n",
    "Tuples that contain immutable elements can be used as a key for a dictionary.\n"
   ]
  },
  {
   "cell_type": "markdown",
   "id": "0b30eebf",
   "metadata": {},
   "source": [
    "# Sets"
   ]
  },
  {
   "cell_type": "markdown",
   "id": "6fdb3ad4",
   "metadata": {},
   "source": [
    "In Python, a Set is an unordered collection of data types that is iterable, mutable and has no duplicate elements. The order of elements in a set is undefined though it may consist of various elements. The major advantage of using a set, as opposed to a list, is that it has a highly optimized method for checking whether a specific element is contained in the set.\n",
    "\n",
    "Creating a Set\n",
    "Sets can be created by using the built-in set() function with an iterable object or a sequence by placing the sequence inside curly braces, separated by a ‘comma’."
   ]
  },
  {
   "cell_type": "markdown",
   "id": "97322e58",
   "metadata": {},
   "source": [
    "#### Adding Elements to a Set\n",
    "\n",
    "Using add() method\n",
    "\n",
    "Only one element at a time can be added to the set by using add() method, loops are used to add multiple elements at a time with the use of add() method."
   ]
  },
  {
   "cell_type": "code",
   "execution_count": 22,
   "id": "ad21b874",
   "metadata": {},
   "outputs": [
    {
     "name": "stdout",
     "output_type": "stream",
     "text": [
      "Initial blank Set: \n",
      "set()\n",
      "\n",
      "Set after Addition of Three elements: \n",
      "{8, 9, (6, 7)}\n",
      "\n",
      "Set after Addition of elements from 1-5: \n",
      "{1, 2, 3, 4, 5, 8, 9, (6, 7)}\n"
     ]
    }
   ],
   "source": [
    "set1 = set()\n",
    "print(\"Initial blank Set: \")\n",
    "print(set1)\n",
    " \n",
    "# Adding element and tuple to the Set\n",
    "set1.add(8)\n",
    "set1.add(9)\n",
    "set1.add((6, 7))\n",
    "print(\"\\nSet after Addition of Three elements: \")\n",
    "print(set1)\n",
    " \n",
    "# Adding elements to the Set\n",
    "# using Iterator\n",
    "for i in range(1, 6):\n",
    "    set1.add(i)\n",
    "print(\"\\nSet after Addition of elements from 1-5: \")\n",
    "print(set1)"
   ]
  },
  {
   "cell_type": "markdown",
   "id": "2d41dfbc",
   "metadata": {},
   "source": [
    "Using update() method\n",
    "\n",
    "For the addition of two or more elements Update() method is used. The update() method accepts lists, strings, tuples as well as other sets as its arguments. In all of these cases, duplicate elements are avoided"
   ]
  },
  {
   "cell_type": "code",
   "execution_count": 23,
   "id": "aa8eb4ec",
   "metadata": {},
   "outputs": [
    {
     "name": "stdout",
     "output_type": "stream",
     "text": [
      "\n",
      "Set after Addition of elements using Update: \n",
      "{4, 5, 10, 11, (6, 7)}\n"
     ]
    }
   ],
   "source": [
    "set1 = set([4, 5, (6, 7)])\n",
    "set1.update([10, 11])\n",
    "print(\"\\nSet after Addition of elements using Update: \")\n",
    "print(set1)"
   ]
  },
  {
   "cell_type": "markdown",
   "id": "c105fe3f",
   "metadata": {},
   "source": [
    "## Accessing a Set\n",
    "Set items cannot be accessed by referring to an index, since sets are unordered the items has no index. But you can loop through the set items using a for loop, or ask if a specified value is present in a set, by using the in keyword."
   ]
  },
  {
   "cell_type": "code",
   "execution_count": 18,
   "id": "481cb782",
   "metadata": {},
   "outputs": [
    {
     "name": "stdout",
     "output_type": "stream",
     "text": [
      "\n",
      "Initial set\n",
      "{'Geeks', 'For'}\n",
      "\n",
      "Elements of set: \n",
      "Geeks For True\n"
     ]
    }
   ],
   "source": [
    "# Python program to demonstrate\n",
    "# Accessing of elements in a set\n",
    " \n",
    "# Creating a set\n",
    "set1 = set([\"Geeks\", \"For\", \"Geeks\"])\n",
    "print(\"\\nInitial set\")\n",
    "print(set1)\n",
    " \n",
    "# Accessing element using\n",
    "# for loop\n",
    "print(\"\\nElements of set: \")\n",
    "for i in set1:\n",
    "    print(i, end=\" \")\n",
    " \n",
    "# Checking the element\n",
    "# using in keyword\n",
    "print(\"Geeks\" in set1)"
   ]
  },
  {
   "cell_type": "markdown",
   "id": "835b2366",
   "metadata": {},
   "source": [
    "#### Removing elements from the Set\n",
    "Using remove() method or discard() method:\n",
    "\n",
    "Elements can be removed from the Set by using the built-in remove() function but a KeyError arises if the element doesn’t exist in the set. \n",
    "\n",
    "To remove elements from a set without KeyError,\n",
    "use discard(), if the element doesn’t exist in the set, it remains unchanged."
   ]
  },
  {
   "cell_type": "code",
   "execution_count": 19,
   "id": "f453fb8f",
   "metadata": {},
   "outputs": [
    {
     "name": "stdout",
     "output_type": "stream",
     "text": [
      "Initial Set: \n",
      "{1, 2, 3, 4, 5, 6, 7, 8, 9, 10, 11, 12}\n",
      "\n",
      "Set after Removal of two elements: \n",
      "{1, 2, 3, 4, 7, 8, 9, 10, 11, 12}\n",
      "\n",
      "Set after Discarding two elements: \n",
      "{1, 2, 3, 4, 7, 10, 11, 12}\n",
      "\n",
      "Set after Removing a range of elements: \n",
      "{7, 10, 11, 12}\n"
     ]
    }
   ],
   "source": [
    "# Python program to demonstrate\n",
    "# Deletion of elements in a Set\n",
    " \n",
    "# Creating a Set\n",
    "set1 = set([1, 2, 3, 4, 5, 6,\n",
    "            7, 8, 9, 10, 11, 12])\n",
    "print(\"Initial Set: \")\n",
    "print(set1)\n",
    " \n",
    "# Removing elements from Set\n",
    "# using Remove() method\n",
    "set1.remove(5)\n",
    "set1.remove(6)\n",
    "print(\"\\nSet after Removal of two elements: \")\n",
    "print(set1)\n",
    " \n",
    "# Removing elements from Set\n",
    "# using Discard() method\n",
    "set1.discard(8)\n",
    "set1.discard(9)\n",
    "print(\"\\nSet after Discarding two elements: \")\n",
    "print(set1)\n",
    " \n",
    "# Removing elements from Set\n",
    "# using iterator method\n",
    "for i in range(1, 5):\n",
    "    set1.remove(i)\n",
    "print(\"\\nSet after Removing a range of elements: \")\n",
    "print(set1)"
   ]
  },
  {
   "cell_type": "markdown",
   "id": "89b9f39d",
   "metadata": {},
   "source": [
    "### Using pop() method:\n",
    "Pop() function can also be used to remove and return an element from the set, but it removes only the last element of the set. \n",
    "\n",
    "Note: If the set is unordered then there’s no such way to determine which element is popped by using the pop() function. "
   ]
  },
  {
   "cell_type": "code",
   "execution_count": 20,
   "id": "2aed2b0c",
   "metadata": {},
   "outputs": [
    {
     "name": "stdout",
     "output_type": "stream",
     "text": [
      "Initial Set: \n",
      "{1, 2, 3, 4, 5, 6, 7, 8, 9, 10, 11, 12}\n",
      "\n",
      "Set after popping an element: \n",
      "{2, 3, 4, 5, 6, 7, 8, 9, 10, 11, 12}\n"
     ]
    }
   ],
   "source": [
    "set1 = set([1, 2, 3, 4, 5, 6,\n",
    "            7, 8, 9, 10, 11, 12])\n",
    "print(\"Initial Set: \")\n",
    "print(set1)\n",
    "# Removing element from the\n",
    "# Set using the pop() method\n",
    "set1.pop()\n",
    "print(\"\\nSet after popping an element: \")\n",
    "print(set1)"
   ]
  },
  {
   "cell_type": "markdown",
   "id": "c601bf10",
   "metadata": {},
   "source": [
    "Disadvantage of this is we can not predict which one is deleting here "
   ]
  },
  {
   "cell_type": "markdown",
   "id": "8b7ee0b5",
   "metadata": {},
   "source": [
    "### Typecasting Objects into sets"
   ]
  },
  {
   "cell_type": "code",
   "execution_count": 21,
   "id": "f818a26f",
   "metadata": {},
   "outputs": [
    {
     "name": "stdout",
     "output_type": "stream",
     "text": [
      "my_list as a set:  {1, 2, 3, 4, 5, 6}\n",
      "my_str as a set:  {'k', 'r', 's', 'o', 'e', 'f', 'G'}\n",
      "my_dict as a set:  {1, 2, 3}\n"
     ]
    }
   ],
   "source": [
    "# Typecasting list into set\n",
    "my_list = [1, 2, 3, 3, 4, 5, 5, 6, 2]\n",
    "my_set = set(my_list)\n",
    "print(\"my_list as a set: \", my_set)\n",
    " \n",
    "# Typecasting string into set\n",
    "my_str = \"GeeksforGeeks\"\n",
    "my_set1 = set(my_str)\n",
    "print(\"my_str as a set: \", my_set1)\n",
    " \n",
    "# Typecasting dictionary into set\n",
    "my_dict = {1: \"One\", 2: \"Two\", 3: \"Three\"}\n",
    "my_set2 = set(my_dict)\n",
    "print(\"my_dict as a set: \", my_set2)\n",
    " \n",
    "# This code is contributed by sarajadhav12052009"
   ]
  },
  {
   "cell_type": "markdown",
   "id": "b67b77f0",
   "metadata": {},
   "source": [
    "In typecasting dict, it only typecasting key values"
   ]
  },
  {
   "cell_type": "markdown",
   "id": "4263c63e",
   "metadata": {},
   "source": [
    "### Set Methods\n",
    "\n",
    "add()\tAdds an element to a set\n",
    "\n",
    "remove()\tRemoves an element from a set. If the element is not present in the set, raise a KeyError\n",
    "\n",
    "clear()\tRemoves all elements form a set\n",
    "\n",
    "copy()\tReturns a shallow copy of a set\n",
    "\n",
    "pop()\tRemoves and returns an arbitrary set element. Raise KeyError if the set is empty\n",
    "\n",
    "update()\tUpdates a set with the union of itself and others\n",
    "\n",
    "union()\tReturns the union of sets in a new set\n",
    "\n",
    "difference()\tReturns the difference of two or more sets as a new set\n",
    "\n",
    "difference_update()\tRemoves all elements of another set from this set\n",
    "\n",
    "discard()\tRemoves an element from set if it is a member. (Do nothing if the element is not in set)\n",
    "\n",
    "intersection()\tReturns the intersection of two sets as a new set\n",
    "\n",
    "intersection_update()\tUpdates the set with the intersection of itself and another\n",
    "\n",
    "isdisjoint()\tReturns True if two sets have a null intersection\n",
    "\n",
    "issubset()\tReturns True if another set contains this set\n",
    "\n",
    "issuperset()\tReturns True if this set contains another set\n",
    "\n",
    "symmetric_difference()\tReturns the symmetric difference of two sets as a new set\n",
    "\n",
    "symmetric_difference_update()\tUpdates a set with the symmetric difference of itself and another"
   ]
  },
  {
   "cell_type": "code",
   "execution_count": null,
   "id": "02beca8c",
   "metadata": {},
   "outputs": [],
   "source": []
  },
  {
   "cell_type": "code",
   "execution_count": null,
   "id": "8aa12593",
   "metadata": {},
   "outputs": [],
   "source": []
  },
  {
   "cell_type": "code",
   "execution_count": null,
   "id": "7743d764",
   "metadata": {},
   "outputs": [],
   "source": []
  },
  {
   "cell_type": "code",
   "execution_count": null,
   "id": "63784447",
   "metadata": {},
   "outputs": [],
   "source": []
  },
  {
   "cell_type": "code",
   "execution_count": null,
   "id": "8c45c174",
   "metadata": {},
   "outputs": [],
   "source": []
  },
  {
   "cell_type": "code",
   "execution_count": null,
   "id": "25104874",
   "metadata": {},
   "outputs": [],
   "source": []
  }
 ],
 "metadata": {
  "kernelspec": {
   "display_name": "Python 3 (ipykernel)",
   "language": "python",
   "name": "python3"
  },
  "language_info": {
   "codemirror_mode": {
    "name": "ipython",
    "version": 3
   },
   "file_extension": ".py",
   "mimetype": "text/x-python",
   "name": "python",
   "nbconvert_exporter": "python",
   "pygments_lexer": "ipython3",
   "version": "3.9.13"
  }
 },
 "nbformat": 4,
 "nbformat_minor": 5
}
