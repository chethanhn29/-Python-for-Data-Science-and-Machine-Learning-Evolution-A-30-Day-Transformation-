{
 "cells": [
  {
   "cell_type": "code",
   "execution_count": 10,
   "id": "0680a2e1",
   "metadata": {},
   "outputs": [],
   "source": [
    "### Basic Fundamental Of Pyton"
   ]
  },
  {
   "cell_type": "code",
   "execution_count": 11,
   "id": "0c77107f",
   "metadata": {},
   "outputs": [
    {
     "name": "stdout",
     "output_type": "stream",
     "text": [
      "navin's laptop\n"
     ]
    }
   ],
   "source": [
    "print(\"navin's laptop\")"
   ]
  },
  {
   "cell_type": "code",
   "execution_count": 12,
   "id": "36c7b77d",
   "metadata": {},
   "outputs": [
    {
     "ename": "SyntaxError",
     "evalue": "invalid syntax (3366358169.py, line 1)",
     "output_type": "error",
     "traceback": [
      "\u001b[1;36m  Input \u001b[1;32mIn [12]\u001b[1;36m\u001b[0m\n\u001b[1;33m    print('navin's laptop')\u001b[0m\n\u001b[1;37m                 ^\u001b[0m\n\u001b[1;31mSyntaxError\u001b[0m\u001b[1;31m:\u001b[0m invalid syntax\n"
     ]
    }
   ],
   "source": [
    "print('navin's laptop')"
   ]
  },
  {
   "cell_type": "code",
   "execution_count": 13,
   "id": "2cf4e27c",
   "metadata": {},
   "outputs": [
    {
     "ename": "SyntaxError",
     "evalue": "invalid syntax (503525417.py, line 1)",
     "output_type": "error",
     "traceback": [
      "\u001b[1;36m  Input \u001b[1;32mIn [13]\u001b[1;36m\u001b[0m\n\u001b[1;33m    print('navin's \"laptop\"')\u001b[0m\n\u001b[1;37m                 ^\u001b[0m\n\u001b[1;31mSyntaxError\u001b[0m\u001b[1;31m:\u001b[0m invalid syntax\n"
     ]
    }
   ],
   "source": [
    "print('navin's \"laptop\"')"
   ]
  },
  {
   "cell_type": "code",
   "execution_count": 14,
   "id": "69e08ce1",
   "metadata": {},
   "outputs": [
    {
     "name": "stdout",
     "output_type": "stream",
     "text": [
      "navin's \"laptop\"\n"
     ]
    }
   ],
   "source": [
    "print('navin\\'s \"laptop\"')"
   ]
  },
  {
   "cell_type": "code",
   "execution_count": 15,
   "id": "b0fda8a2",
   "metadata": {},
   "outputs": [
    {
     "name": "stdout",
     "output_type": "stream",
     "text": [
      "c:\\Documents\n"
     ]
    }
   ],
   "source": [
    "print(\"c:\\Documents\")"
   ]
  },
  {
   "cell_type": "code",
   "execution_count": 16,
   "id": "45b0199f",
   "metadata": {},
   "outputs": [
    {
     "name": "stdout",
     "output_type": "stream",
     "text": [
      "['abcd', 786, 2.23, 'john', 70.2]\n",
      "abcd\n",
      "[786, 2.23]\n",
      "[2.23, 'john', 70.2]\n",
      "[123, 'john', 123, 'john']\n",
      "['abcd', 786, 2.23, 'john', 70.2, 123, 'john']\n"
     ]
    }
   ],
   "source": [
    "_list = [ 'abcd', 786 , 2.23, 'john', 70.2 ]\n",
    "tinylist = [123, 'john']\n",
    "print (_list)          # Prints complete list\n",
    "print (_list[0])       # Prints first element of the list\n",
    "print (_list[1:3])     # Prints elements starting from 2nd till 3rd \n",
    "print (_list[2:])      # Prints elements starting from 3rd element\n",
    "print (tinylist * 2)  # Prints list two times\n",
    "print (_list + tinylist) # Prints concatenated lists"
   ]
  },
  {
   "cell_type": "code",
   "execution_count": 17,
   "id": "4762b70e",
   "metadata": {},
   "outputs": [
    {
     "data": {
      "text/plain": [
       "False"
      ]
     },
     "execution_count": 17,
     "metadata": {},
     "output_type": "execute_result"
    }
   ],
   "source": [
    "_list1 = [ 'abcd', 786 , 2.23]\n",
    "_list2 = [ 2.23,786,'abcd']\n",
    "_list1==_list2"
   ]
  },
  {
   "cell_type": "code",
   "execution_count": null,
   "id": "d1d6ed04",
   "metadata": {},
   "outputs": [],
   "source": [
    "_list1[2]=25   ### We can update the values of list ie, list are mutable"
   ]
  },
  {
   "cell_type": "code",
   "execution_count": null,
   "id": "283de46b",
   "metadata": {},
   "outputs": [],
   "source": [
    "_list1"
   ]
  },
  {
   "cell_type": "code",
   "execution_count": 2,
   "id": "24fc56d7",
   "metadata": {},
   "outputs": [],
   "source": [
    "tuple1 = ('abcd', 786 , 2.23) "
   ]
  },
  {
   "cell_type": "code",
   "execution_count": 3,
   "id": "b37e9e72",
   "metadata": {},
   "outputs": [
    {
     "data": {
      "text/plain": [
       "('abcd', 786, 2.23)"
      ]
     },
     "execution_count": 3,
     "metadata": {},
     "output_type": "execute_result"
    }
   ],
   "source": [
    "tuple1"
   ]
  },
  {
   "cell_type": "code",
   "execution_count": 4,
   "id": "627a27d1",
   "metadata": {},
   "outputs": [
    {
     "ename": "TypeError",
     "evalue": "'tuple' object does not support item assignment",
     "output_type": "error",
     "traceback": [
      "\u001b[1;31m---------------------------------------------------------------------------\u001b[0m",
      "\u001b[1;31mTypeError\u001b[0m                                 Traceback (most recent call last)",
      "Input \u001b[1;32mIn [4]\u001b[0m, in \u001b[0;36m<cell line: 1>\u001b[1;34m()\u001b[0m\n\u001b[1;32m----> 1\u001b[0m tuple1[\u001b[38;5;241m2\u001b[39m]\u001b[38;5;241m=\u001b[39m\u001b[38;5;241m25\u001b[39m\n",
      "\u001b[1;31mTypeError\u001b[0m: 'tuple' object does not support item assignment"
     ]
    }
   ],
   "source": [
    "tuple1[2]=25   ### We can update the values of list ie, list are mutable"
   ]
  },
  {
   "cell_type": "code",
   "execution_count": 8,
   "id": "aeff0d51",
   "metadata": {},
   "outputs": [
    {
     "name": "stdout",
     "output_type": "stream",
     "text": [
      "Empty Dictionary: \n",
      "{}\n",
      "\n",
      "Dictionary after adding 3 elements: \n",
      "{0: 'Geeks', 2: 'For', 3: 1}\n",
      "\n",
      "Dictionary after adding 3 elements: \n",
      "{0: 'Geeks', 2: 'For', 3: 1, 'Value_set': (2, 3, 4)}\n",
      "\n",
      "Updated key value: \n",
      "{0: 'Geeks', 2: 'Welcome', 3: 1, 'Value_set': (2, 3, 4)}\n",
      "\n",
      "Adding a Nested Key: \n",
      "{0: 'Geeks', 2: 'Welcome', 3: 1, 'Value_set': (2, 3, 4), 5: {'Nested': {'1': 'Life', '2': 'Geeks'}}}\n"
     ]
    }
   ],
   "source": [
    "# Creating an empty Dictionary\n",
    "Dict = {}\n",
    "print(\"Empty Dictionary: \")\n",
    "print(Dict)\n",
    "  \n",
    "# Adding elements one at a time\n",
    "Dict[0] = 'Geeks'\n",
    "Dict[2] = 'For'\n",
    "Dict[3] = 1\n",
    "print(\"\\nDictionary after adding 3 elements: \")\n",
    "print(Dict)\n",
    "  \n",
    "# Adding set of values\n",
    "# to a single Key\n",
    "Dict['Value_set'] = 2, 3, 4\n",
    "print(\"\\nDictionary after adding 3 elements: \")\n",
    "print(Dict)\n",
    "  \n",
    "# Updating existing Key's Value\n",
    "Dict[2] = 'Welcome'\n",
    "print(\"\\nUpdated key value: \")\n",
    "print(Dict)\n",
    "  \n",
    "# Adding Nested Key value to Dictionary\n",
    "Dict[5] = {'Nested': {'1': 'Life', '2': 'Geeks'}}\n",
    "print(\"\\nAdding a Nested Key: \")\n",
    "print(Dict)"
   ]
  },
  {
   "cell_type": "code",
   "execution_count": 6,
   "id": "4428345d",
   "metadata": {},
   "outputs": [
    {
     "name": "stdout",
     "output_type": "stream",
     "text": [
      "Accessing a element using key:\n",
      "For\n",
      "Accessing a element using key:\n",
      "Geeks\n"
     ]
    }
   ],
   "source": [
    "# Python program to demonstrate\n",
    "# accessing a element from a Dictionary\n",
    "  \n",
    "# Creating a Dictionary\n",
    "Dict = {1: 'Geeks', 'name': 'For', 3: 'Geeks'}\n",
    "  \n",
    "# accessing a element using key\n",
    "print(\"Accessing a element using key:\")\n",
    "print(Dict['name'])\n",
    "  \n",
    "# accessing a element using key\n",
    "print(\"Accessing a element using key:\")\n",
    "print(Dict[1])"
   ]
  },
  {
   "cell_type": "code",
   "execution_count": null,
   "id": "5aaf3c67",
   "metadata": {},
   "outputs": [],
   "source": [
    "#Accessing an element of a nested dictionary\n",
    "#In order to access the value of any key in the nested dictionary, use indexing [] syntax.\n",
    "# Creating a Dictionary\n",
    "Dict = {'Dict1': {1: 'Geeks'},\n",
    "        'Dict2': {'Name': 'For'}}  \n",
    "# Accessing element using key\n",
    "print(Dict['Dict1'])\n",
    "print(Dict['Dict1'][1])\n",
    "print(Dict['Dict2']['Name'])"
   ]
  },
  {
   "cell_type": "code",
   "execution_count": null,
   "id": "5950cd3d",
   "metadata": {},
   "outputs": [],
   "source": [
    "Dictionary methods\n",
    "clear() – Remove all the elements from the dictionary\n",
    "copy() – Returns a copy of the dictionary\n",
    "get() – Returns the value of specified key\n",
    "items() – Returns a list containing a tuple for each key value pair\n",
    "keys() – Returns a list containing dictionary’s keys\n",
    "pop() – Remove the element with specified key\n",
    "popitem() – Removes the last inserted key-value pair\n",
    "update() – Updates dictionary with specified key-value pairs\n",
    "values() – Returns a list of all the values of dictionary"
   ]
  },
  {
   "cell_type": "code",
   "execution_count": 5,
   "id": "9f4833d3",
   "metadata": {},
   "outputs": [
    {
     "name": "stdout",
     "output_type": "stream",
     "text": [
      "Test Dicionary {1: 'Python', 2: 'Java', 3: 'Ruby', 4: 'Scala'}\n",
      "\n",
      "copy() method: \n",
      "{1: 'Python', 2: 'Java', 3: 'Ruby', 4: 'Scala'}\n",
      "\n",
      "After Using clear() method : \n",
      "{}\n",
      "\n",
      " After Using get() method for 1st key ie,get(1) : \n",
      "Python\n",
      "\n",
      " After Using items() method : \n",
      "dict_items([(1, 'Python'), (2, 'Java'), (3, 'Ruby'), (4, 'Scala')])\n",
      "\n",
      " After Using keys() method : \n",
      "dict_keys([1, 2, 3, 4])\n",
      "\n",
      " After Using pop() method ,for 2 key, ie pop(2): \n",
      "{1: 'Python', 3: 'Ruby', 4: 'Scala'}\n",
      "\n",
      " After Using popitem() method : \n",
      "{1: 'Python', 3: 'Ruby'}\n",
      "\n",
      " After Using update() method : \n",
      "{1: 'Python', 3: 'Scala'}\n",
      "\n",
      " After Using values() method : \n",
      "dict_values(['Python', 'Scala'])\n"
     ]
    }
   ],
   "source": [
    "# demo for all dictionary methods\n",
    "dict1 = {1: \"Python\", 2: \"Java\", 3: \"Ruby\", 4: \"Scala\"}\n",
    "print(\"Test Dicionary\",dict1)\n",
    "  \n",
    "# copy() method\n",
    "print(\"\\ncopy() method: \")\n",
    "dict2 = dict1.copy()\n",
    "print(dict2)\n",
    "  \n",
    "# clear() method\n",
    "dict1.clear()\n",
    "print(\"\\nAfter Using clear() method : \")\n",
    "print(dict1)\n",
    "  \n",
    "# get() method\n",
    "print(\"\\n After Using get() method for 1st key ie,get(1) : \")\n",
    "print(dict2.get(1))\n",
    "  \n",
    "# items() method\n",
    "print(\"\\n After Using items() method : \")\n",
    "print(dict2.items())\n",
    "  \n",
    "# keys() method\n",
    "print(\"\\n After Using keys() method : \")\n",
    "print(dict2.keys())\n",
    "  \n",
    "# pop() method\n",
    "print(\"\\n After Using pop() method ,for 2 key, ie pop(2): \")\n",
    "dict2.pop(2)\n",
    "print(dict2)\n",
    "  \n",
    "# popitem() method\n",
    "dict2.popitem()\n",
    "print(\"\\n After Using popitem() method : \")\n",
    "print(dict2)\n",
    "  \n",
    "# update() method\n",
    "dict2.update({3: \"Scala\"})\n",
    "print(\"\\n After Using update() method : \")\n",
    "print(dict2)\n",
    "  \n",
    "# values() method\n",
    "print(\"\\n After Using values() method : \")\n",
    "print(dict2.values())"
   ]
  },
  {
   "cell_type": "code",
   "execution_count": null,
   "id": "0a604956",
   "metadata": {},
   "outputs": [],
   "source": []
  },
  {
   "cell_type": "markdown",
   "id": "248282d1",
   "metadata": {},
   "source": [
    "## if and Else statement"
   ]
  },
  {
   "cell_type": "code",
   "execution_count": null,
   "id": "cd438ff7",
   "metadata": {},
   "outputs": [],
   "source": [
    "if True:\n",
    "    print(\"if statement gonna work only the condition is True\")\n",
    "    print(\"if statement not  gonna work if the condition is False\")"
   ]
  },
  {
   "cell_type": "code",
   "execution_count": null,
   "id": "9ef31eb7",
   "metadata": {},
   "outputs": [],
   "source": [
    "if False:\n",
    "    print(\"if statement gonna work only the condition is True\")\n",
    "print(\"if statement works if the conditions is true or false if the statement is outside of if statement\")"
   ]
  },
  {
   "cell_type": "markdown",
   "id": "2e983252",
   "metadata": {},
   "source": [
    "## while loops"
   ]
  },
  {
   "cell_type": "code",
   "execution_count": null,
   "id": "4540d77a",
   "metadata": {},
   "outputs": [],
   "source": [
    "i=1   ## intialization\n",
    "while i<=3:   ### COndition \n",
    "    print(\"the given Number is less than 4\") #Statement gonna execute until the condition is false\n",
    "    i=i+1   # increment or Decrement"
   ]
  },
  {
   "cell_type": "code",
   "execution_count": 19,
   "id": "35eeaf6f",
   "metadata": {},
   "outputs": [
    {
     "name": "stdout",
     "output_type": "stream",
     "text": [
      "Telusko Rocks Rocks Rocks Rocks \n",
      "Telusko Rocks Rocks Rocks Rocks \n",
      "Telusko Rocks Rocks Rocks Rocks \n",
      "Telusko Rocks Rocks Rocks Rocks \n",
      "Telusko Rocks Rocks Rocks Rocks \n"
     ]
    }
   ],
   "source": [
    "#for  to print Telusko Rocks Rocks ROcks Rocks 5 times\n",
    "i=1   ## intialization\n",
    "while i<=5:   ### COndition \n",
    "    print(\"Telusko\",end=\" \")#Statement gonna execute until the condition is false\n",
    "    j=1\n",
    "    while j<=4:\n",
    "        print(\"Rocks\",end=\" \")\n",
    "        j=j+1\n",
    "    i=i+1 # increment or Decrement\n",
    "    print()\n",
    "  "
   ]
  },
  {
   "cell_type": "code",
   "execution_count": 22,
   "id": "bdb6ccad",
   "metadata": {},
   "outputs": [
    {
     "name": "stdout",
     "output_type": "stream",
     "text": [
      "Telusko Rocks Telusko Rocks \n",
      "Telusko Rocks Telusko Rocks \n",
      "Telusko Rocks Telusko Rocks \n",
      "Telusko Rocks Telusko Rocks \n",
      "Telusko Rocks Telusko Rocks \n"
     ]
    }
   ],
   "source": [
    "#for  to print Telusko Rocks Telugu Rocks  5 times\n",
    "i=1   ## intialization\n",
    "while i<=5:   ### COndition \n",
    "    print(\"Telusko Rocks\",end=\" \")#Statement gonna execute until the condition is false\n",
    "    j=1\n",
    "    while j<=1:\n",
    "        print(\"Telusko Rocks\",end=\" \")\n",
    "        j=j+1\n",
    "    i=i+1 # increment or Decrement\n",
    "    print()\n",
    "  "
   ]
  },
  {
   "cell_type": "code",
   "execution_count": 41,
   "id": "85870253",
   "metadata": {},
   "outputs": [
    {
     "name": "stdout",
     "output_type": "stream",
     "text": [
      "Telusko Rocks Telusko Rocks \n",
      "Kannada Rocks Kannada Rocks \n",
      "Telusko Rocks Telusko Rocks \n",
      "Kannada Rocks Kannada Rocks \n",
      "Telusko Rocks Telusko Rocks \n",
      "Kannada Rocks Kannada Rocks \n",
      "Telusko Rocks Telusko Rocks \n",
      "Kannada Rocks Kannada Rocks \n",
      "Telusko Rocks Telusko Rocks \n",
      "Kannada Rocks Kannada Rocks \n"
     ]
    }
   ],
   "source": [
    "#for  to print Telusko Rocks Telusko Rocks  \n",
    "   ## Kannada Rocks Kannada Rocks in alternate lines for 5 times\n",
    "i=1   ## intialization\n",
    "while i<=5:   ### COndition \n",
    "    print(\"Telusko Rocks\",end=\" \")#Statement gonna execute until the condition is false\n",
    "    j=1\n",
    "    while j<=1:\n",
    "        print(\"Telusko Rocks\",end=\" \")\n",
    "        j=j+1\n",
    "    print()\n",
    "    print(\"Kannada Rocks\",end=\" \")#Statement gonna execute until the condition is false\n",
    "    print(\"Kannada Rocks\",end=\" \")\n",
    "    i=i+1 # increment or Decrement\n",
    "    print()\n",
    "    \n",
    "\n",
    "  \n",
    "  "
   ]
  },
  {
   "cell_type": "code",
   "execution_count": 48,
   "id": "b1324ccf",
   "metadata": {},
   "outputs": [
    {
     "name": "stdout",
     "output_type": "stream",
     "text": [
      "Telusko Rocks Telusko Rocks \n",
      "Kannada Rocks Kannada Rocks Rocks Rocks \n",
      "Telusko Rocks Telusko Rocks \n",
      "Kannada Rocks Kannada Rocks Rocks Rocks \n",
      "Telusko Rocks Telusko Rocks \n",
      "Kannada Rocks Kannada Rocks Rocks Rocks \n",
      "Telusko Rocks Telusko Rocks \n",
      "Kannada Rocks Kannada Rocks Rocks Rocks \n",
      "Telusko Rocks Telusko Rocks \n",
      "Kannada Rocks Kannada Rocks Rocks Rocks \n"
     ]
    }
   ],
   "source": [
    "#for  to print Telusko Rocks Telusko Rocks  \n",
    "   ## Kannada Rocks Kannada Rocks Rocks Rocks in alternate lines for 5 times\n",
    "i=1   ## intialization\n",
    "while i<=5:   ### COndition \n",
    "    print(\"Telusko Rocks\",end=\" \")#Statement gonna execute until the condition is false\n",
    "    j=1\n",
    "    while j<=1:\n",
    "        print(\"Telusko Rocks\",end=\" \")\n",
    "        j=j+1\n",
    "    print()\n",
    "    print(\"Kannada Rocks Kannada\",end=\" \")\n",
    "    a=1\n",
    "    while a<=3 :\n",
    "        print(\"Rocks\",end=\" \")\n",
    "        a=a+1 #Statement gonna execute until the condition is false\n",
    "    i=i+1 # increment or Decrement\n",
    "    print()\n",
    "    "
   ]
  },
  {
   "cell_type": "code",
   "execution_count": 61,
   "id": "761614ee",
   "metadata": {},
   "outputs": [
    {
     "name": "stdout",
     "output_type": "stream",
     "text": [
      "*\n",
      "* *\n",
      "* *\n",
      "* *\n",
      "* *\n",
      "* "
     ]
    }
   ],
   "source": [
    "##Singe Pyramid\n",
    "i=1   ## intialization\n",
    "while i<=5:   ### COndition \n",
    "    print(\"*\")#Statement gonna execute until the condition is false\n",
    "    j=1\n",
    "    while j<=4 :\n",
    "        print(\"*\",end=\" \")\n",
    "        j=j+1\n",
    "    i=i+1\n",
    "    print"
   ]
  },
  {
   "cell_type": "code",
   "execution_count": 5,
   "id": "5278ee1f",
   "metadata": {},
   "outputs": [
    {
     "name": "stdout",
     "output_type": "stream",
     "text": [
      "*\n",
      "*\n",
      "*\n",
      "*\n",
      "*\n"
     ]
    }
   ],
   "source": [
    "i=1   ## intialization\n",
    "while i<=5:   ### COndition \n",
    "    print(\"*\")#Statement gonna execute until the condition is false\n",
    "    while \n",
    "    i=i+1"
   ]
  },
  {
   "cell_type": "code",
   "execution_count": null,
   "id": "d2446cc7",
   "metadata": {},
   "outputs": [],
   "source": []
  },
  {
   "cell_type": "markdown",
   "id": "96f5eb31",
   "metadata": {},
   "source": [
    "## for loop"
   ]
  },
  {
   "cell_type": "code",
   "execution_count": 7,
   "id": "7355861a",
   "metadata": {},
   "outputs": [
    {
     "name": "stdout",
     "output_type": "stream",
     "text": [
      "0\n",
      "1\n",
      "2\n",
      "3\n",
      "4\n"
     ]
    }
   ],
   "source": [
    "for i in range(5):\n",
    "    print(i)"
   ]
  },
  {
   "cell_type": "code",
   "execution_count": 8,
   "id": "9aa2ec42",
   "metadata": {},
   "outputs": [
    {
     "name": "stdout",
     "output_type": "stream",
     "text": [
      "1\n",
      "2\n",
      "4\n",
      "7\n",
      "8\n",
      "11\n",
      "13\n",
      "14\n",
      "16\n",
      "17\n",
      "19\n",
      "22\n",
      "23\n",
      "26\n",
      "28\n",
      "29\n",
      "31\n",
      "32\n",
      "34\n",
      "37\n",
      "38\n",
      "41\n",
      "43\n",
      "44\n",
      "46\n",
      "47\n",
      "49\n"
     ]
    }
   ],
   "source": [
    "for i in range(50):\n",
    "    if i%3==0 or i%5==0 :\n",
    "        continue\n",
    "    print(i)"
   ]
  },
  {
   "cell_type": "code",
   "execution_count": 12,
   "id": "b27355c1",
   "metadata": {},
   "outputs": [
    {
     "name": "stdout",
     "output_type": "stream",
     "text": [
      "0\n",
      "1\n",
      "2\n",
      "3\n",
      "4\n",
      "5\n",
      "6\n",
      "7\n",
      "8\n",
      "9\n"
     ]
    }
   ],
   "source": [
    "for i in range(10):\n",
    "    if i%3==0 or i%5==0 :\n",
    "        pass\n",
    "    print(i)"
   ]
  },
  {
   "cell_type": "markdown",
   "id": "281d7299",
   "metadata": {},
   "source": [
    "## break, continue and pass in Python"
   ]
  },
  {
   "cell_type": "markdown",
   "id": "8a5f1e4b",
   "metadata": {},
   "source": [
    "Using loops in Python automates and repeats the tasks in an efficient manner. But sometimes, there may arise a condition where you want to exit the loop completely, skip an iteration or ignore that condition. These can be done by loop control statements. Loop control statements change execution from its normal sequence. When execution leaves a scope, all automatic objects that were created in that scope are destroyed. Python supports the following control statements.\n",
    "\n",
    "Break statement\n",
    "\n",
    "Continue statement\n",
    "\n",
    "Pass statement"
   ]
  },
  {
   "cell_type": "markdown",
   "id": "80be87da",
   "metadata": {},
   "source": [
    "#### Break statement\n",
    "\n",
    "The break statement is used to terminate the loop or statement in which it is present. After that, the control will pass to the statements that are present after the break statement, if available. If the break statement is present in the nested loop, then it terminates only those loops which contains break statement."
   ]
  },
  {
   "cell_type": "markdown",
   "id": "621dc219",
   "metadata": {},
   "source": [
    "Example:\n",
    "Consider a situation where you want to iterate over a string and want to print all the characters until a letter ‘e’ or ‘s’ is encountered. It is specified that you have to do this using loop and only one loop is allowed to use.\n",
    "Here comes the usage of break statement. What we can do is iterate over a string using either a while loop or for loop and every time we have to compare the value of iterator with ‘e’ or ‘s’. If it is ‘e’ or ‘s’ we will use the break statement to exit the loop.\n",
    "\n",
    "Below is the implementation."
   ]
  },
  {
   "cell_type": "code",
   "execution_count": 14,
   "id": "e853e243",
   "metadata": {},
   "outputs": [
    {
     "name": "stdout",
     "output_type": "stream",
     "text": [
      "g\n",
      "e\n",
      "Out of for loop\n",
      "\n",
      "g\n",
      "e\n",
      "Out of while loop\n"
     ]
    }
   ],
   "source": [
    "# Python program to demonstrate\n",
    "# break statement\n",
    "  \n",
    "# Python program to \n",
    "# demonstrate break statement \n",
    "    \n",
    "name = 'geeksforgeeks'\n",
    "# Using for loop \n",
    "for letter in name: \n",
    "    \n",
    "    print(letter) \n",
    "    # break the loop as soon it sees 'e' \n",
    "    # or 's' \n",
    "    if letter == 'e' or letter == 's': \n",
    "        break\n",
    "    \n",
    "print(\"Out of for loop\") \n",
    "print() \n",
    "    \n",
    "i = 0\n",
    "    \n",
    "# Using while loop \n",
    "while True: \n",
    "    print(name[i]) \n",
    "    \n",
    "    # break the loop as soon it sees 'e' \n",
    "    # or 's' \n",
    "    if s[i] == 'e' or s[i] == 's': \n",
    "        break\n",
    "    i += 1\n",
    "    \n",
    "print(\"Out of while loop\")"
   ]
  },
  {
   "cell_type": "markdown",
   "id": "0ebe7720",
   "metadata": {},
   "source": [
    "#### Continue statement\n",
    "\n",
    "Continue is also a loop control statement just like the break statement. continue statement is opposite to that of break statement, instead of terminating the loop, it forces to execute the next iteration of the loop.\n",
    "As the name suggests the continue statement forces the loop to continue or execute the next iteration. When the continue statement is executed in the loop, the code inside the loop following the continue statement will be skipped and the next iteration of the loop will begin."
   ]
  },
  {
   "cell_type": "markdown",
   "id": "ce29294d",
   "metadata": {},
   "source": [
    "Example:\n",
    "Consider the situation when you need to write a program which prints the number from 1 to 10 and but not 6. It is specified that you have to do this using loop and only one loop is allowed to use.\n",
    "Here comes the usage of continue statement. What we can do here is we can run a loop from 1 to 10 and every time we have to compare the value of iterator with 6. If it is equal to 6 we will use the continue statement to continue to next iteration without printing anything otherwise we will print the value.\n",
    "\n",
    "Below is the implementation of the above idea:"
   ]
  },
  {
   "cell_type": "code",
   "execution_count": 15,
   "id": "bc0643aa",
   "metadata": {},
   "outputs": [
    {
     "name": "stdout",
     "output_type": "stream",
     "text": [
      "1 2 3 4 5 7 8 9 10 "
     ]
    }
   ],
   "source": [
    "# Python program to \n",
    "# demonstrate continue \n",
    "# statement \n",
    "    \n",
    "# loop from 1 to 10 \n",
    "for i in range(1, 11): \n",
    "    \n",
    "    # If i is equals to 6,   \n",
    "    # continue to next iteration   \n",
    "    # without printing  \n",
    "    if i == 6: \n",
    "        continue\n",
    "    else: \n",
    "        # otherwise print the value \n",
    "        # of i \n",
    "        print(i, end = \" \")"
   ]
  },
  {
   "cell_type": "markdown",
   "id": "699d4d8f",
   "metadata": {},
   "source": [
    "#### Pass statement\n",
    "\n",
    "As the name suggests pass statement simply does nothing. The pass statement in Python is used when a statement is required syntactically but you do not want any command or code to execute. It is like null operation, as nothing will happen is it is executed. Pass statement can also be used for writing empty loops. Pass is also used for empty control statement, function and classes."
   ]
  },
  {
   "cell_type": "code",
   "execution_count": 16,
   "id": "187fe4f7",
   "metadata": {},
   "outputs": [
    {
     "name": "stdout",
     "output_type": "stream",
     "text": [
      "g\n",
      "e\n",
      "e\n",
      "Pass executed\n",
      "k\n",
      "s\n"
     ]
    }
   ],
   "source": [
    "# Python program to demonstrate\n",
    "# pass statement\n",
    "  \n",
    "  \n",
    "s = \"geeks\"\n",
    "  \n",
    "# Empty loop\n",
    "for i in s:\n",
    "    # No error will be raised\n",
    "    pass\n",
    "  \n",
    "# Empty function\n",
    "def fun():\n",
    "    pass\n",
    "  \n",
    "# No error will be raised\n",
    "fun()\n",
    "  \n",
    "# Pass statement\n",
    "for i in s:\n",
    "    if i == 'k':\n",
    "        print('Pass executed')\n",
    "        pass\n",
    "    print(i)"
   ]
  },
  {
   "cell_type": "code",
   "execution_count": null,
   "id": "e90f253b",
   "metadata": {},
   "outputs": [],
   "source": []
  }
 ],
 "metadata": {
  "kernelspec": {
   "display_name": "Python 3 (ipykernel)",
   "language": "python",
   "name": "python3"
  },
  "language_info": {
   "codemirror_mode": {
    "name": "ipython",
    "version": 3
   },
   "file_extension": ".py",
   "mimetype": "text/x-python",
   "name": "python",
   "nbconvert_exporter": "python",
   "pygments_lexer": "ipython3",
   "version": "3.9.13"
  }
 },
 "nbformat": 4,
 "nbformat_minor": 5
}
