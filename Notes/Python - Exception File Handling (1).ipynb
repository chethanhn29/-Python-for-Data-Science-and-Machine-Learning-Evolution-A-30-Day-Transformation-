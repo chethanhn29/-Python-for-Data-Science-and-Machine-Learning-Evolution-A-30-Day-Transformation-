{
 "cells": [
  {
   "cell_type": "markdown",
   "id": "3f8433cd",
   "metadata": {},
   "source": [
    "# Try, Except, else and Finally in Python"
   ]
  },
  {
   "cell_type": "markdown",
   "id": "6ec21434",
   "metadata": {},
   "source": [
    "An Exception is an Event, which occurs during the execution of the program. It is also known as a run time error. When that error occurs, Python generates an exception during the execution and that can be handled, which avoids your program to interrupt.\n",
    "\n",
    "Example:"
   ]
  },
  {
   "cell_type": "code",
   "execution_count": 1,
   "id": "1f08ad2d",
   "metadata": {},
   "outputs": [
    {
     "ename": "ZeroDivisionError",
     "evalue": "division by zero",
     "output_type": "error",
     "traceback": [
      "\u001b[1;31m---------------------------------------------------------------------------\u001b[0m",
      "\u001b[1;31mZeroDivisionError\u001b[0m                         Traceback (most recent call last)",
      "Input \u001b[1;32mIn [1]\u001b[0m, in \u001b[0;36m<cell line: 3>\u001b[1;34m()\u001b[0m\n\u001b[0;32m      1\u001b[0m a \u001b[38;5;241m=\u001b[39m \u001b[38;5;241m5\u001b[39m\n\u001b[0;32m      2\u001b[0m b \u001b[38;5;241m=\u001b[39m \u001b[38;5;241m0\u001b[39m\n\u001b[1;32m----> 3\u001b[0m \u001b[38;5;28mprint\u001b[39m(\u001b[43ma\u001b[49m\u001b[38;5;241;43m/\u001b[39;49m\u001b[43mb\u001b[49m)\n",
      "\u001b[1;31mZeroDivisionError\u001b[0m: division by zero"
     ]
    }
   ],
   "source": [
    "a = 5\n",
    "b = 0\n",
    "print(a/b)"
   ]
  },
  {
   "cell_type": "markdown",
   "id": "361c6014",
   "metadata": {},
   "source": [
    "In this code, The system can not divide the number with zero so an exception is raised. \n",
    "\n",
    "## Exception handling with try, except, else, and finally\n",
    "### Try: \n",
    "This block will test the excepted error to occur\n",
    "    \n",
    "### Except:  \n",
    "Here you can handle the error\n",
    "    \n",
    "### Else: \n",
    "If there is no exception then this block will be executed\n",
    "    \n",
    "### finally:\n",
    "finally block always gets executed either exception is generated or not"
   ]
  },
  {
   "cell_type": "markdown",
   "id": "d2fc619e",
   "metadata": {},
   "source": [
    "#### Syntax:\n",
    "\n",
    "try:\n",
    "\n",
    "       # Some Code.... \n",
    "\n",
    "except:\n",
    "\n",
    "       # optional block\n",
    "       # Handling of exception (if required)\n",
    "\n",
    "else:\n",
    "\n",
    "       # execute if no exception\n",
    "\n",
    "finally:\n",
    "\n",
    "      # Some code .....(always executed)"
   ]
  },
  {
   "cell_type": "markdown",
   "id": "29576209",
   "metadata": {},
   "source": [
    "Let’s first understand how the try and except works –\n",
    "\n",
    "1.First try clause is executed i.e. the code between try and except clause.\n",
    "\n",
    "2.If there is no exception, then only try clause will run, except clause will not get executed.\n",
    "\n",
    "3.If any exception occurs, the try clause will be skipped and except clause will run.\n",
    "\n",
    "4.If any exception occurs, but the except clause within the code doesn’t handle it, it is passed on to the outer try statements. If the exception is left unhandled, then the execution stops.\n",
    "\n",
    "5.A try statement can have more than one except clause.\n",
    "\n",
    "Example: Let us try to take user integer input and throw the exception in except block."
   ]
  },
  {
   "cell_type": "code",
   "execution_count": 3,
   "id": "3dbf05af",
   "metadata": {},
   "outputs": [
    {
     "name": "stdout",
     "output_type": "stream",
     "text": [
      "Yeah ! Your answer is : 1\n",
      "Sorry ! You are dividing by zero \n"
     ]
    }
   ],
   "source": [
    "def divide(x, y):\n",
    "    try:\n",
    "        # Floor Division : Gives only Fractional\n",
    "        # Part as Answer\n",
    "        result = x // y\n",
    "        print(\"Yeah ! Your answer is :\", result)\n",
    "    except ZeroDivisionError:\n",
    "        print(\"Sorry ! You are dividing by zero \")\n",
    "   \n",
    "# Look at parameters and note the working of Program\n",
    "divide(3, 2)\n",
    "divide(3, 0)"
   ]
  },
  {
   "cell_type": "markdown",
   "id": "c76cdbfc",
   "metadata": {},
   "source": [
    "### Else Clause\n",
    "The code enters the else block only if the try clause does not raise an exception.\n",
    "\n",
    "Example: Else block will execute only when no exception occurs."
   ]
  },
  {
   "cell_type": "code",
   "execution_count": 4,
   "id": "04379630",
   "metadata": {},
   "outputs": [
    {
     "name": "stdout",
     "output_type": "stream",
     "text": [
      "Yeah ! Your answer is : 1\n",
      "Sorry ! You are dividing by zero \n"
     ]
    }
   ],
   "source": [
    "# working of try() \n",
    "def divide(x, y):\n",
    "    try:\n",
    "        # Floor Division : Gives only Fractional\n",
    "        # Part as Answer\n",
    "        result = x // y\n",
    "    except ZeroDivisionError:\n",
    "        print(\"Sorry ! You are dividing by zero \")\n",
    "    else:\n",
    "        print(\"Yeah ! Your answer is :\", result)\n",
    "   \n",
    "# Look at parameters and note the working of Program\n",
    "divide(3, 2)\n",
    "divide(3, 0)"
   ]
  },
  {
   "cell_type": "markdown",
   "id": "29d3eae0",
   "metadata": {},
   "source": [
    "### Finally Keyword\n",
    "Python provides a keyword finally, which is always executed after try and except blocks. The finally block always executes after normal termination of try block or after try block terminates due to some exception. \n",
    "Even if you return in the except block still the finally block will execute\n",
    "\n",
    "Example: Let’s try to throw the exception in except block and Finally will execute either exception will generate or not"
   ]
  },
  {
   "cell_type": "code",
   "execution_count": 5,
   "id": "24e1b1ab",
   "metadata": {},
   "outputs": [
    {
     "name": "stdout",
     "output_type": "stream",
     "text": [
      "Yeah ! Your answer is : 1\n",
      "This is always executed\n",
      "Sorry ! You are dividing by zero \n",
      "This is always executed\n"
     ]
    }
   ],
   "source": [
    "def divide(x, y):\n",
    "    try:\n",
    "        # Floor Division : Gives only Fractional\n",
    "        # Part as Answer\n",
    "        result = x // y\n",
    "    except ZeroDivisionError:\n",
    "        print(\"Sorry ! You are dividing by zero \")\n",
    "    else:\n",
    "        print(\"Yeah ! Your answer is :\", result)\n",
    "    finally: \n",
    "        # this block is always executed  \n",
    "        # regardless of exception generation. \n",
    "        print('This is always executed')  \n",
    " \n",
    "# Look at parameters and note the working of Program\n",
    "divide(3, 2)\n",
    "divide(3, 0)"
   ]
  },
  {
   "cell_type": "code",
   "execution_count": null,
   "id": "950732a6",
   "metadata": {},
   "outputs": [],
   "source": []
  }
 ],
 "metadata": {
  "kernelspec": {
   "display_name": "Python 3 (ipykernel)",
   "language": "python",
   "name": "python3"
  },
  "language_info": {
   "codemirror_mode": {
    "name": "ipython",
    "version": 3
   },
   "file_extension": ".py",
   "mimetype": "text/x-python",
   "name": "python",
   "nbconvert_exporter": "python",
   "pygments_lexer": "ipython3",
   "version": "3.9.13"
  }
 },
 "nbformat": 4,
 "nbformat_minor": 5
}
