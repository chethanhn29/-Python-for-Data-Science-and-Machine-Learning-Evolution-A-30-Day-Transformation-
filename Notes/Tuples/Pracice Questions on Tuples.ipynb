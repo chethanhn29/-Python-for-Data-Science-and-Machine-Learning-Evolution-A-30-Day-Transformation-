{
 "cells": [
  {
   "cell_type": "markdown",
   "id": "8029f46a",
   "metadata": {},
   "source": [
    "# Practice Questions"
   ]
  },
  {
   "cell_type": "markdown",
   "id": "d62939f7",
   "metadata": {},
   "source": [
    "##### 1.\n",
    "Create a tuple named my_tuple that contains the following values: \"apple\", \"banana\", \"cherry\", \"date\", and \"elderberry\". Then, perform the following operations:\n",
    "\n",
    "a. Print the third item in the tuple.\n",
    "\n",
    "b. Print the length of the tuple.\n",
    "\n",
    "c. Check if \"pear\" is in the tuple.\n",
    "\n",
    "d. Concatenate the tuple with itself and print the result.\n",
    "\n",
    "##### 2.\n",
    "Create two tuples named tuple1 and tuple2 that contain the following values: 1, 2, 3, and 4. Then, perform the following operations:\n",
    "\n",
    "a. Add the two tuples together and print the result.\n",
    "\n",
    "b. Multiply tuple1 by 3 and print the result.\n",
    "\n",
    "c. Find the index of the value 3 in tuple2 and print the result.\n",
    "\n",
    "##### 3.\n",
    "Create a tuple named my_tuple that contains the following values: \"apple\", \"banana\", \"cherry\", \"date\", and \"elderberry\". Then, perform the following operations:\n",
    "\n",
    "a. Convert the tuple to a list and store it in a variable named my_list.\n",
    "\n",
    "b. Sort my_list in descending order and print the result.\n",
    "\n",
    "c. Convert my_list back to a tuple and print the result.\n",
    "\n",
    "\n",
    "##### 4.\n",
    "Create a tuple named student_tuples that contains several tuples, where each tuple represents a student and has the following elements: the student's name (a string), their grade point average (a float), and their major (a string). Then, perform the following operations:\n",
    "\n",
    "a. Sort the tuple by the students' grade point averages, from highest to lowest.\n",
    "\n",
    "b. Use a list comprehension to create a list of the majors of the students whose grade point averages are above 3.5.\n",
    "\n",
    "c. Use the filter() function to create a new tuple that contains only the students who are majoring in computer science.\n",
    "\n",
    "##### 5.\n",
    "Create a tuple named my_tuple that contains the following values: 1, 2, 3, 4, 5, 6, and 7. Then, perform the following operations:\n",
    "\n",
    "a. Use the map() function to create a new tuple that contains the squares of the values in my_tuple.\n",
    "\n",
    "b. Use the reduce() function to find the product of the values in my_tuple.\n",
    "\n",
    "c. Use a list comprehension to create a list of the even values in my_tuple.\n",
    "\n",
    "##### 6.\n",
    "Create a tuple named my_tuple that contains the following values: \"apple\", \"banana\", \"cherry\", \"date\", and \"elderberry\". Then, perform the following operations:\n",
    "\n",
    "a. Use the zip() function to create a new tuple that pairs each element in my_tuple with its index in the tuple.\n",
    "\n",
    "b. Use a list comprehension to create a list of tuples, where each tuple has the first letter of an element in my_tuple and its index in the tuple.\n",
    "\n",
    "c. Use the filter() function to create a new tuple that contains only the elements in my_tuple that have an odd length.\n",
    "\n",
    "##### 7.\n",
    "You have a list of tuples, where each tuple contains a person's name and their birth year. For example: people = [('Alice', 1980), ('Bob', 1975), ('Charlie', 1990), ('David', 1985)]. Write a function that takes this list of tuples as input and returns a new list of tuples containing the same information, but with the birth years replaced by the person's age (as of the current year).\n",
    "\n",
    "##### 8.\n",
    "You are given a list of tuples, where each tuple contains the name of a city and its population. For example: cities = [('New York', 8000000), ('Los Angeles', 4000000), ('Chicago', 2700000), ('Houston', 2300000), ('Phoenix', 1600000)]. Write a function that takes this list of tuples as input and returns a new list of tuples containing the same information, but sorted by population (in descending order).\n",
    "\n",
    "##### 9.\n",
    "You are given a list of tuples, where each tuple contains a person's name and a list of their grades. For example: students = [('Alice', [85, 90, 95]), ('Bob', [75, 80, 85]), ('Charlie', [90, 95, 100]), ('David', [80, 85, 90])]. Write a function that takes this list of tuples as input and returns a new list of tuples containing the same information, but with an additional element in each tuple that contains the person's average grade.\n",
    "\n",
    "##### 10.\n",
    "You are given a list of tuples, where each tuple contains the name of a company and its stock price for each day of a given week. For example: companies = [('Apple', [142, 141, 144, 142, 141]), ('Microsoft', [246, 245, 247, 248, 245]), ('Amazon', [3270, 3255, 3265, 3250, 3275])]. Write a function that takes this list of tuples as input and returns a new list of tuples containing the same information, but with an additional element in each tuple that contains the average stock price for the week.\n",
    "\n",
    "##### 11.\n",
    "You are given a list of tuples, where each tuple contains the name of a country and its capital city. For example: countries = [('United States', 'Washington, D.C.'), ('Canada', 'Ottawa'), ('Mexico', 'Mexico City'), ('Brazil', 'Brasília'), ('Argentina', 'Buenos Aires')]. Write a function that takes this list of tuples as input and returns a dictionary where the keys are the names of the countries and the values are the names of the capital cities."
   ]
  },
  {
   "cell_type": "code",
   "execution_count": null,
   "id": "192ba250",
   "metadata": {},
   "outputs": [],
   "source": []
  },
  {
   "cell_type": "code",
   "execution_count": 4,
   "id": "fcb4c859",
   "metadata": {},
   "outputs": [
    {
     "name": "stdout",
     "output_type": "stream",
     "text": [
      "cherry\n",
      "5\n",
      "False\n",
      "('apple', 'banana', 'cherry', 'date', 'elderberry', 'apple', 'banana', 'cherry', 'date', 'elderberry')\n"
     ]
    }
   ],
   "source": [
    "# 1.Create a tuple named my_tuple that contains the following values: \"apple\", \"banana\", \"cherry\", \"date\", and \"elderberry\". Then, perform the following operations:\n",
    "#a. Print the third item in the tuple.\n",
    "#b. Print the length of the tuple.\n",
    "#c. Check if \"pear\" is in the tuple.'\"\n",
    "\n",
    "#Solution\n",
    "# Create tuple\n",
    "my_tuple = (\"apple\", \"banana\", \"cherry\", \"date\", \"elderberry\")\n",
    "\n",
    "# Print third item\n",
    "print(my_tuple[2])\n",
    "\n",
    "# Print length of tuple\n",
    "print(len(my_tuple))\n",
    "\n",
    "# Check if \"pear\" is in the tuple\n",
    "print(\"pear\" in my_tuple)\n",
    "\n",
    "# Concatenate tuple with itself and print result\n",
    "print(my_tuple + my_tuple)\n"
   ]
  },
  {
   "cell_type": "code",
   "execution_count": 5,
   "id": "1f109f43",
   "metadata": {},
   "outputs": [
    {
     "name": "stdout",
     "output_type": "stream",
     "text": [
      "(1, 2, 3, 4, 1, 2, 3, 4)\n",
      "(1, 2, 3, 4, 1, 2, 3, 4, 1, 2, 3, 4)\n",
      "2\n"
     ]
    }
   ],
   "source": [
    "#2.Create two tuples named tuple1 and tuple2 that contain the following values: 1, 2, 3, and 4. Then, perform the following operations:\n",
    "#a. Add the two tuples together and print the result.\n",
    "#b. Multiply tuple1 by 3 and print the result.\n",
    "#c. Find the index of the value 3 in tuple2 and print the result.\n",
    "\n",
    "# Create tuples\n",
    "tuple1 = (1, 2, 3, 4)\n",
    "tuple2 = (1, 2, 3, 4)\n",
    "\n",
    "# Add the two tuples and print result\n",
    "print(tuple1 + tuple2)\n",
    "\n",
    "# Multiply tuple1 by 3 and print the result\n",
    "print(tuple1 * 3)\n",
    "\n",
    "# Find the index of the value 3 in tuple2 and print the result\n",
    "print(tuple2.index(3))\n"
   ]
  },
  {
   "cell_type": "code",
   "execution_count": 6,
   "id": "abf77144",
   "metadata": {},
   "outputs": [
    {
     "name": "stdout",
     "output_type": "stream",
     "text": [
      "['elderberry', 'date', 'cherry', 'banana', 'apple']\n",
      "('elderberry', 'date', 'cherry', 'banana', 'apple')\n"
     ]
    }
   ],
   "source": [
    "#3.Create a tuple named my_tuple that contains the following values: \"apple\", \"banana\", \"cherry\", \"date\", and \"elderberry\". Then, perform the following operations:\n",
    "#a. Convert the tuple to a list and store it in a variable named my_list.\n",
    "#b. Sort my_list in descending order and print the result.\n",
    "#c. Convert my_list back to a tuple and print the result.\n",
    "\n",
    "# Create tuple\n",
    "my_tuple = (\"apple\", \"banana\", \"cherry\", \"date\", \"elderberry\")\n",
    "\n",
    "# Convert tuple to list\n",
    "my_list = list(my_tuple)\n",
    "\n",
    "# Sort my_list in descending order and print the result\n",
    "my_list.sort(reverse=True)\n",
    "print(my_list)\n",
    "\n",
    "# Convert my_list back to tuple and print the result\n",
    "my_tuple = tuple(my_list)\n",
    "print(my_tuple)\n"
   ]
  },
  {
   "cell_type": "code",
   "execution_count": 7,
   "id": "b8a7c5bc",
   "metadata": {},
   "outputs": [
    {
     "name": "stdout",
     "output_type": "stream",
     "text": [
      "[('Charlie', 4.0, 'Computer Science'), ('Alice', 3.7, 'Computer Science'), ('David', 3.5, 'Computer Science'), ('Bob', 2.9, 'Mathematics')]\n",
      "['Computer Science', 'Computer Science']\n",
      "(('Alice', 3.7, 'Computer Science'), ('Charlie', 4.0, 'Computer Science'), ('David', 3.5, 'Computer Science'))\n"
     ]
    }
   ],
   "source": [
    "##4.Create a tuple named student_tuples that contains several tuples, where each tuple represents a student and has the following elements: the student's name (a string), their grade point average (a float), and their major (a string). Then, perform the following operations:\n",
    "#a. Sort the tuple by the students' grade point averages, from highest to lowest.\n",
    "#b. Use a list comprehension to create a list of the majors of the students whose grade point averages are above 3.5.\n",
    "#c. Use the filter() function to create a new tuple that contains only the students who are majoring in computer science.\n",
    "\n",
    "# Create tuple of student tuples\n",
    "student_tuples = ((\"Alice\", 3.7, \"Computer Science\"),\n",
    "                  (\"Bob\", 2.9, \"Mathematics\"),\n",
    "                  (\"Charlie\", 4.0, \"Computer Science\"),\n",
    "                  (\"David\", 3.5, \"Computer Science\"))\n",
    "\n",
    "# Sort tuple by students' grade point averages, from highest to lowest\n",
    "sorted_tuples = sorted(student_tuples, key=lambda x: x[1], reverse=True)\n",
    "print(sorted_tuples)\n",
    "\n",
    "# Create list of majors of students whose GPAs are above 3.5\n",
    "majors_above_3_5 = [x[2] for x in student_tuples if x[1] > 3.5]\n",
    "print(majors_above_3_5)\n",
    "\n",
    "# Create new tuple that contains only students majoring in computer science\n",
    "cs_students = tuple(filter(lambda x: x[2] == \"Computer Science\", student_tuples))\n",
    "print(cs_students)"
   ]
  },
  {
   "cell_type": "code",
   "execution_count": 8,
   "id": "c17ae3cb",
   "metadata": {},
   "outputs": [
    {
     "name": "stdout",
     "output_type": "stream",
     "text": [
      "(1, 4, 9, 16, 25, 36, 49)\n",
      "5040\n",
      "[2, 4, 6]\n"
     ]
    }
   ],
   "source": [
    "#5.Create a tuple named my_tuple that contains the following values: 1, 2, 3, 4, 5, 6, and 7. Then, perform the following operations:\n",
    "#a. Use the map() function to create a new tuple that contains the squares of the values in my_tuple.\n",
    "#b. Use the reduce() function to find the product of the values in my_tuple.\n",
    "#c. Use a list comprehension to create a list of the even values in my_tuple.\n",
    "\n",
    "# Create tuple\n",
    "my_tuple = (1, 2, 3, 4, 5, 6, 7)\n",
    "\n",
    "# Use map() to create a new tuple that contains the squares of the values in my_tuple\n",
    "squares = tuple(map(lambda x: x**2, my_tuple))\n",
    "print(squares)\n",
    "\n",
    "# Use reduce() to find the product of the values in my_tuple\n",
    "from functools import reduce\n",
    "product = reduce(lambda x, y: x*y, my_tuple)\n",
    "print(product)\n",
    "\n",
    "# Use a list comprehension to create a list of the even values in my_tuple\n",
    "evens = [x for x in my_tuple if x % 2 == 0]\n",
    "print(evens)"
   ]
  },
  {
   "cell_type": "code",
   "execution_count": 9,
   "id": "13d1451c",
   "metadata": {},
   "outputs": [
    {
     "name": "stdout",
     "output_type": "stream",
     "text": [
      "(('apple', 0), ('banana', 1), ('cherry', 2), ('date', 3), ('elderberry', 4))\n",
      "[('a', 0), ('b', 1), ('c', 2), ('d', 3), ('e', 4)]\n",
      "('apple',)\n"
     ]
    }
   ],
   "source": [
    "#6.Create a tuple named my_tuple that contains the following values: \"apple\", \"banana\", \"cherry\", \"date\", and \"elderberry\". Then, perform the following operations:\n",
    "#a. Use the zip() function to create a new tuple that pairs each element in my_tuple with its index in the tuple.\n",
    "#b. Use a list comprehension to create a list of tuples, where each tuple has the first letter of an element in my_tuple and its index in the tuple.\n",
    "#c. Use the filter() function to create a new tuple that contains only the elements in my_tuple that have an odd length.\n",
    "\n",
    "# Create tuple\n",
    "my_tuple = (\"apple\", \"banana\", \"cherry\", \"date\", \"elderberry\")\n",
    "\n",
    "# (a) Use zip() function to pair each element with its index\n",
    "new_tuple = tuple(zip(my_tuple, range(len(my_tuple))))\n",
    "\n",
    "# (b) Use list comprehension to create list of tuples with first letter and index\n",
    "new_list = [(my_tuple[i][0], i) for i in range(len(my_tuple))]\n",
    "\n",
    "# (c) Use filter() function to create tuple with elements of odd length\n",
    "odd_length_tuple = tuple(filter(lambda x: len(x) % 2 != 0, my_tuple))\n",
    "\n",
    "# Print all results\n",
    "print(new_tuple)\n",
    "print(new_list)\n",
    "print(odd_length_tuple)\n"
   ]
  },
  {
   "cell_type": "code",
   "execution_count": 10,
   "id": "9aff3244",
   "metadata": {},
   "outputs": [
    {
     "name": "stdout",
     "output_type": "stream",
     "text": [
      "[('Alice', 43), ('Bob', 48), ('Charlie', 33), ('David', 38)]\n"
     ]
    }
   ],
   "source": [
    "#7.You have a list of tuples, where each tuple contains a person's name and their birth year. For example: people = [('Alice', 1980), ('Bob', 1975), ('Charlie', 1990), ('David', 1985)]. Write a function that takes this list of tuples as input and returns a new list of tuples containing the same information, but with the birth years replaced by the person's age (as of the current year).\n",
    "from datetime import date\n",
    "\n",
    "def replace_birth_year_with_age(people):\n",
    "    # Get current year\n",
    "    current_year = date.today().year\n",
    "    \n",
    "    # Calculate age for each person and create new tuple\n",
    "    new_people = [(name, current_year - birth_year) for name, birth_year in people]\n",
    "    \n",
    "    return new_people\n",
    "\n",
    "# Example usage\n",
    "people = [('Alice', 1980), ('Bob', 1975), ('Charlie', 1990), ('David', 1985)]\n",
    "new_people = replace_birth_year_with_age(people)\n",
    "print(new_people)"
   ]
  },
  {
   "cell_type": "code",
   "execution_count": 13,
   "id": "91e82e19",
   "metadata": {},
   "outputs": [
    {
     "name": "stdout",
     "output_type": "stream",
     "text": [
      "[('New York', 8000000), ('Los Angeles', 4000000), ('Chicago', 2700000), ('Houston', 2300000), ('Phoenix', 1600000)]\n"
     ]
    }
   ],
   "source": [
    "#8.You are given a list of tuples, where each tuple contains the name of a city and its population. For example: cities = [('New York', 8000000), ('Los Angeles', 4000000), ('Chicago', 2700000), ('Houston', 2300000), ('Phoenix', 1600000)]. Write a function that takes this list of tuples as input and returns a new list of tuples containing the same information, but sorted by population (in descending order).\n",
    "def sort_cities_by_population(cities):\n",
    "    # Sort cities by population (in descending order)\n",
    "    sorted_cities = sorted(cities, key=lambda x: x[1], reverse=True)\n",
    "    \n",
    "    return sorted_cities\n",
    "\n",
    "# Example usage\n",
    "cities = [('New York', 8000000), ('Los Angeles', 4000000), ('Chicago', 2700000), ('Houston', 2300000), ('Phoenix', 1600000)]\n",
    "sorted_cities = sort_cities_by_population(cities)\n",
    "print(sorted_cities)\n"
   ]
  },
  {
   "cell_type": "code",
   "execution_count": 12,
   "id": "eef0de9b",
   "metadata": {},
   "outputs": [
    {
     "name": "stdout",
     "output_type": "stream",
     "text": [
      "[('Alice', [85, 90, 95], 90.0), ('Bob', [75, 80, 85], 80.0), ('Charlie', [90, 95, 100], 95.0), ('David', [80, 85, 90], 85.0)]\n"
     ]
    }
   ],
   "source": [
    "#9.You are given a list of tuples, where each tuple contains a person's name and a list of their grades. For example: students = [('Alice', [85, 90, 95]), ('Bob', [75, 80, 85]), ('Charlie', [90, 95, 100]), ('David', [80, 85, 90])]. Write a function that takes this list of tuples as input and returns a new list of tuples containing the same information, but with an additional element in each tuple that contains the person's average grade.\n",
    "def add_average_grade(students):\n",
    "    # Calculate average grade for each student and add to tuple\n",
    "    new_students = [(name, grades, sum(grades)/len(grades)) for name, grades in students]\n",
    "    \n",
    "    return new_students\n",
    "\n",
    "# Example usage\n",
    "students = [('Alice', [85, 90, 95]), ('Bob', [75, 80, 85]), ('Charlie', [90, 95, 100]), ('David', [80, 85, 90])]\n",
    "new_students = add_average_grade(students)\n",
    "print(new_students)\n"
   ]
  },
  {
   "cell_type": "code",
   "execution_count": 17,
   "id": "668c6425",
   "metadata": {},
   "outputs": [
    {
     "name": "stdout",
     "output_type": "stream",
     "text": [
      "[('Apple', [142, 141, 144, 142, 141], 142.0), ('Microsoft', [246, 245, 247, 248, 245], 246.2), ('Amazon', [3270, 3255, 3265, 3250, 3275], 3263.0)]\n"
     ]
    }
   ],
   "source": [
    "#10.You are given a list of tuples, where each tuple contains the name of a company and its stock price for each day of a given week. For example: companies = [('Apple', [142, 141, 144, 142, 141]), ('Microsoft', [246, 245, 247, 248, 245]), ('Amazon', [3270, 3255, 3265, 3250, 3275])]. Write a function that takes this list of tuples as input and returns a new list of tuples containing the same information, but with an additional element in each tuple that contains the average stock price for the week.\n",
    "\n",
    "def add_average_stock_price(companies):\n",
    "    new_companies = []\n",
    "    for company in companies:\n",
    "        name = company[0]\n",
    "        prices = company[1]\n",
    "        avg_price = sum(prices) / len(prices)\n",
    "        new_companies.append((name, prices, avg_price))\n",
    "    return new_companies\n",
    "\n",
    "companies = [('Apple', [142, 141, 144, 142, 141]), ('Microsoft', [246, 245, 247, 248, 245]), ('Amazon', [3270, 3255, 3265, 3250, 3275])]\n",
    "new_companies = add_average_stock_price(companies)\n",
    "print(new_companies)\n"
   ]
  },
  {
   "cell_type": "markdown",
   "id": "3dc80f25",
   "metadata": {},
   "source": [
    "This will apply the add_average_stock_price function to the companies list of tuples, and return a new list of tuples with the average stock price added to each tuple. The output will print the new list of tuples."
   ]
  },
  {
   "cell_type": "markdown",
   "id": "cfa5fd84",
   "metadata": {},
   "source": [
    "### 11.\n",
    "You are given a list of tuples, where each tuple contains the name of a country and its capital city. For example: countries = [('United States', 'Washington, D.C.'), ('Canada', 'Ottawa'), ('Mexico', 'Mexico City'), ('Brazil', 'Brasília'), ('Argentina', 'Buenos Aires')]. Write a function that takes this list of tuples as input and returns a dictionary where the keys are the names of the countries and the values are the names of the capital cities."
   ]
  },
  {
   "cell_type": "code",
   "execution_count": 19,
   "id": "45708ec7",
   "metadata": {},
   "outputs": [
    {
     "name": "stdout",
     "output_type": "stream",
     "text": [
      "{'United States': 'Washington, D.C.', 'Canada': 'Ottawa', 'Mexico': 'Mexico City', 'Brazil': 'Brasília', 'Argentina': 'Buenos Aires'}\n"
     ]
    }
   ],
   "source": [
    "def make_country_capital_dict(countries):\n",
    "    country_capital_dict = {}\n",
    "    for country, capital in countries:\n",
    "        country_capital_dict[country] = capital\n",
    "    return country_capital_dict\n",
    "\n",
    "countries = [('United States', 'Washington, D.C.'), ('Canada', 'Ottawa'), ('Mexico', 'Mexico City'), ('Brazil', 'Brasília'), ('Argentina', 'Buenos Aires')]\n",
    "\n",
    "country_capital_dict = make_country_capital_dict(countries)\n",
    "\n",
    "print(country_capital_dict)\n"
   ]
  },
  {
   "cell_type": "code",
   "execution_count": null,
   "id": "0a53a828",
   "metadata": {},
   "outputs": [],
   "source": []
  }
 ],
 "metadata": {
  "kernelspec": {
   "display_name": "Python 3 (ipykernel)",
   "language": "python",
   "name": "python3"
  },
  "language_info": {
   "codemirror_mode": {
    "name": "ipython",
    "version": 3
   },
   "file_extension": ".py",
   "mimetype": "text/x-python",
   "name": "python",
   "nbconvert_exporter": "python",
   "pygments_lexer": "ipython3",
   "version": "3.9.13"
  }
 },
 "nbformat": 4,
 "nbformat_minor": 5
}
