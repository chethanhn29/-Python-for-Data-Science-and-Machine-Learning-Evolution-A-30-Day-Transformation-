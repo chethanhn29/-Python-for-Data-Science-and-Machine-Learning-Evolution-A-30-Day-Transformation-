{
 "cells": [
  {
   "cell_type": "code",
   "execution_count": 1,
   "id": "1652b76c",
   "metadata": {},
   "outputs": [],
   "source": [
    "x = 25\n",
    "y = 15\n",
    "z = \"Hello\"\n",
    "a = \"World\"\n",
    "b = -15.8\n",
    "c = 20.5\n",
    "d = True\n",
    "e = False\n"
   ]
  },
  {
   "cell_type": "markdown",
   "id": "cb75df86",
   "metadata": {},
   "source": [
    "Perform integer mathematical operations:\n",
    "\n",
    "\n",
    "\n"
   ]
  },
  {
   "cell_type": "code",
   "execution_count": 8,
   "id": "f439c7a8",
   "metadata": {},
   "outputs": [
    {
     "name": "stdout",
     "output_type": "stream",
     "text": [
      "40\n",
      "10\n",
      "375\n",
      "1.6666666666666667\n"
     ]
    }
   ],
   "source": [
    "# Perform integer mathematical operations\n",
    "#Add x and y and print the result.\n",
    "print(x + y)\n",
    "#Subtract y from x and print the result.\n",
    "print(x - y)\n",
    "#Multiply x and y and print the result.\n",
    "print(x * y)\n",
    "#Divide x by y and print the result.\n",
    "print(x / y)"
   ]
  },
  {
   "cell_type": "markdown",
   "id": "8cb0acec",
   "metadata": {},
   "source": [
    "\n",
    "\n",
    " String methods\n"
   ]
  },
  {
   "cell_type": "code",
   "execution_count": 9,
   "id": "7c51d7f9",
   "metadata": {},
   "outputs": [
    {
     "name": "stdout",
     "output_type": "stream",
     "text": [
      "5\n",
      "Hello World\n",
      "Hel\n",
      "2\n"
     ]
    }
   ],
   "source": [
    "# String methods\n",
    "#Find the length of the string z.\n",
    "print(len(z))\n",
    "#Concatenate z and a and print the result.\n",
    "print(z + \" \" + a)\n",
    "#Slice the first three characters of z and print the result.\n",
    "print(z[:3])\n",
    "#Find the index of the character ‘l’ in z.\n",
    "print(z.index(\"l\"))\n"
   ]
  },
  {
   "cell_type": "code",
   "execution_count": 10,
   "id": "c652c39a",
   "metadata": {},
   "outputs": [
    {
     "name": "stdout",
     "output_type": "stream",
     "text": [
      "True\n",
      "False\n",
      "False\n",
      "True\n"
     ]
    }
   ],
   "source": [
    "# Boolean operations\n",
    "#Print the result of x > y.\n",
    "print(x > y)\n",
    "#Print the result of x < y.\n",
    "print(x < y)\n",
    "#Print the result of d and e.\n",
    "print(d and e)\n",
    "#Print the result of d or e.\n",
    "print(d or e)"
   ]
  },
  {
   "cell_type": "code",
   "execution_count": 6,
   "id": "c03be86a",
   "metadata": {},
   "outputs": [
    {
     "name": "stdout",
     "output_type": "stream",
     "text": [
      "4.699999999999999\n",
      "-36.3\n",
      "-323.90000000000003\n",
      "-0.7707317073170732\n"
     ]
    }
   ],
   "source": [
    "# Float operations\n",
    "print(b + c)\n",
    "print(b - c)\n",
    "print(b * c)\n",
    "print(b / c)\n",
    "\n",
    "\n"
   ]
  },
  {
   "cell_type": "code",
   "execution_count": 11,
   "id": "2ec0c719",
   "metadata": {},
   "outputs": [
    {
     "name": "stdout",
     "output_type": "stream",
     "text": [
      "<class 'float'>\n",
      "<class 'float'>\n"
     ]
    }
   ],
   "source": [
    "# Check the type of b and c\n",
    "print(type(b))\n",
    "# Check the type of b and c\n",
    "print(type(c))"
   ]
  },
  {
   "cell_type": "markdown",
   "id": "fc6636d9",
   "metadata": {},
   "source": [
    "### Some More questions on Strings "
   ]
  },
  {
   "cell_type": "code",
   "execution_count": 16,
   "id": "4f65b824",
   "metadata": {},
   "outputs": [
    {
     "name": "stdout",
     "output_type": "stream",
     "text": [
      "L\n"
     ]
    }
   ],
   "source": [
    "#Given a string 'HELLO World', extract the character at index 3 and print it.\n",
    "a='HELLO World'\n",
    "print(a[3])\n"
   ]
  },
  {
   "cell_type": "code",
   "execution_count": 17,
   "id": "4e636031",
   "metadata": {},
   "outputs": [
    {
     "name": "stdout",
     "output_type": "stream",
     "text": [
      "LLO\n"
     ]
    }
   ],
   "source": [
    "#extract the characters from index 2 to 5 (inclusive) and print the result.\n",
    "print(a[2:5])"
   ]
  },
  {
   "cell_type": "code",
   "execution_count": 23,
   "id": "821f92b3",
   "metadata": {},
   "outputs": [
    {
     "name": "stdout",
     "output_type": "stream",
     "text": [
      "Hello World\n",
      "HelloWorld\n"
     ]
    }
   ],
   "source": [
    "#Given two strings 's1' and 's2', concatenate the two strings using the '+' operator and print the result.\n",
    "s1=\"Hello\"\n",
    "s2=\"World\"\n",
    "print(s1+ \" \" +s2)\n",
    "print(s1+ \"\" +s2)\n",
    "# You can notice the difference when the space between quotes \n",
    "# is there then there will be space between 2 strings"
   ]
  },
  {
   "cell_type": "code",
   "execution_count": 26,
   "id": "1597411b",
   "metadata": {},
   "outputs": [
    {
     "name": "stdout",
     "output_type": "stream",
     "text": [
      "HelloHelloWorldWorld\n"
     ]
    }
   ],
   "source": [
    "#Given two strings 's1' and 's2', concatenate the two strings using the '*' operator with a repeating factor of 2 and print the result.\n",
    "print(s1 * 2 + s2 * 2)"
   ]
  },
  {
   "cell_type": "code",
   "execution_count": 29,
   "id": "2bff4bbc",
   "metadata": {},
   "outputs": [
    {
     "name": "stdout",
     "output_type": "stream",
     "text": [
      "Hello HelloHello HelloHello Hello\n"
     ]
    }
   ],
   "source": []
  },
  {
   "cell_type": "code",
   "execution_count": null,
   "id": "54c2512e",
   "metadata": {},
   "outputs": [],
   "source": []
  },
  {
   "cell_type": "code",
   "execution_count": null,
   "id": "7a9eeadc",
   "metadata": {},
   "outputs": [],
   "source": []
  },
  {
   "cell_type": "code",
   "execution_count": null,
   "id": "0c7bd1e5",
   "metadata": {},
   "outputs": [],
   "source": []
  }
 ],
 "metadata": {
  "kernelspec": {
   "display_name": "Python 3 (ipykernel)",
   "language": "python",
   "name": "python3"
  },
  "language_info": {
   "codemirror_mode": {
    "name": "ipython",
    "version": 3
   },
   "file_extension": ".py",
   "mimetype": "text/x-python",
   "name": "python",
   "nbconvert_exporter": "python",
   "pygments_lexer": "ipython3",
   "version": "3.9.13"
  }
 },
 "nbformat": 4,
 "nbformat_minor": 5
}
